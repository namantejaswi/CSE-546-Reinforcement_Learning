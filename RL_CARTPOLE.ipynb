{
  "cells": [
    {
      "cell_type": "markdown",
      "metadata": {},
      "source": [
        "\n",
        "\"We certify that the code and data in this assignment were generated independently, using only\n",
        "the tools and resources defined in the course and that we did not receive any external help,\n",
        "coaching or contributions during the production of this work.\"\n"
      ]
    },
    {
      "cell_type": "code",
      "execution_count": 15,
      "metadata": {
        "id": "64vmMD5JLR8G"
      },
      "outputs": [],
      "source": [
        "import gym\n",
        "import numpy as np\n",
        "import matplotlib.pyplot as plt\n",
        "from IPython import display as ipythondisplay\n",
        "\n",
        "import torch\n",
        "import torchvision\n",
        "import torchvision.transforms as transforms\n",
        "import torch.nn as nn\n",
        "import torch.nn.functional as F\n",
        "import matplotlib.pyplot as plt\n",
        "import torch.optim as optim\n",
        "from torch.autograd import Variable\n",
        "import random\n",
        "from collections import deque"
      ]
    },
    {
      "cell_type": "code",
      "execution_count": 16,
      "metadata": {
        "id": "MN6nepMHLV06"
      },
      "outputs": [],
      "source": [
        "class LinearNN(nn.Module):\n",
        "    def __init__(self):\n",
        "        super(LinearNN, self).__init__()\n",
        "        self.fc1 = nn.Linear(4, 64)\n",
        "        self.fc1.weight.data.normal_(0, 0.1)\n",
        "        self.fc2 = nn.Linear(64, 2)\n",
        "        self.fc2.weight.data.normal_(0, 0.1)\n",
        "\n",
        "    def forward(self, x):\n",
        "        x = self.fc1(x)\n",
        "        x = F.relu(x)\n",
        "        x = self.fc2(x)\n",
        "        return x"
      ]
    },
    {
      "cell_type": "code",
      "execution_count": 17,
      "metadata": {
        "id": "ATL7yS7SLjnw"
      },
      "outputs": [],
      "source": [
        "env = gym.make(\"CartPole-v1\")\n",
        "\n",
        "class CartpoleDQNAgent:\n",
        "    def __init__(self, env, batchSize=50, minBatchSize=50, maxReplayBuffer=1500, epsilon = 1, epsilonDecay=0.999, update=100, gamma=0.9):\n",
        "        self.env = env\n",
        "        self.envshape = 0 if isinstance(env.action_space.sample(), int) else env.action_space.sample().shape\n",
        "        self.totalStates = 4\n",
        "        self.totalAction = env.action_space.n\n",
        "        self.replay_mem = np.zeros((maxReplayBuffer, self.totalStates * 2 + 2))\n",
        "        self.model = LinearNN()\n",
        "        self.target_model = LinearNN()\n",
        "        self.loss_func = nn.MSELoss()\n",
        "        self.optimizer = optimizer = optim.Adam(self.model.parameters())\n",
        "        self.batchSize=batchSize\n",
        "        self.minBatchSize=minBatchSize\n",
        "        self.maxReplayBuffer=maxReplayBuffer\n",
        "        self.epsilon=epsilon\n",
        "        self.epsilonDecay=epsilonDecay\n",
        "        self.update=update\n",
        "        self.target_model.fc1.weight = self.model.fc1.weight\n",
        "        self.target_model.fc2.weight = self.model.fc2.weight\n",
        "        self.learn_counter = 0\n",
        "        self.memory_counter = 0\n",
        "        self.gamma=gamma\n",
        "\n",
        "    def step(self, pos):\n",
        "        pos = torch.unsqueeze(torch.FloatTensor(pos), 0)\n",
        "        if np.random.uniform() > self.epsilon:   \n",
        "            actions = self.model.forward(pos)\n",
        "            action = torch.max(actions, 1)[1].data.numpy()\n",
        "            action = action[0] if self.envshape == 0 else action.reshape(self.envshape)  \n",
        "        else: \n",
        "            action = np.random.randint(0, self.totalAction)\n",
        "            action = action if self.envshape == 0 else action.reshape(self.envshape)  \n",
        "        return action\n",
        "        \n",
        "    def buffer(self, state, action, reward, state2):\n",
        "        tmp = np.hstack((state, [action, reward], state2))\n",
        "        index = self.memory_counter % self.maxReplayBuffer\n",
        "        self.replay_mem[index, :] = tmp\n",
        "        self.memory_counter += 1\n",
        "\n",
        "    def train(self):\n",
        "        if len(self.replay_mem) < self.minBatchSize:\n",
        "            return\n",
        "        if self.learn_counter % self.update == 0:\n",
        "            self.target_model.load_state_dict(self.model.state_dict())\n",
        "\n",
        "        self.learn_counter += 1\n",
        "        sample_index = np.random.choice(self.maxReplayBuffer, self.batchSize)\n",
        "        bufferm = self.replay_mem[sample_index, :]\n",
        "        state = torch.FloatTensor(bufferm[:, :self.totalStates])\n",
        "        state2 = torch.FloatTensor(bufferm[:, -self.totalStates:])\n",
        "        reward = torch.FloatTensor(bufferm[:, self.totalStates+1:self.totalStates+2])\n",
        "        action = torch.LongTensor(bufferm[:, self.totalStates:self.totalStates+1].astype(int))\n",
        "\n",
        "        q_eval = self.model(state).gather(1, action)  \n",
        "        q_next = self.target_model(state2).detach()     \n",
        "        q_target = reward + self.gamma * q_next.max(1)[0].view(self.batchSize, 1)   \n",
        "        loss = self.loss_func(q_eval, q_target)\n",
        "        self.optimizer.zero_grad()\n",
        "        loss.backward()\n",
        "        self.optimizer.step()\n",
        "\n",
        "agent1 = CartpoleDQNAgent(env)"
      ]
    },
    {
      "cell_type": "code",
      "execution_count": 18,
      "metadata": {
        "colab": {
          "base_uri": "https://localhost:8080/",
          "height": 573
        },
        "id": "ec-ItoSDPRzj",
        "outputId": "2f7939c9-9c82-4ea9-ca6a-39a196b526ed"
      },
      "outputs": [
        {
          "data": {
            "image/png": "[encoded data removed]",
            "text/plain": [
              "<Figure size 432x288 with 1 Axes>"
            ]
          },
          "metadata": {
            "needs_background": "light"
          },
          "output_type": "display_data"
        },
        {
          "data": {
            "image/png": "[encoded data removed]",
            "text/plain": [
              "<Figure size 432x288 with 1 Axes>"
            ]
          },
          "metadata": {
            "needs_background": "light"
          },
          "output_type": "display_data"
        }
      ],
      "source": [
        "# def cartPoleDQN():\n",
        "env = gym.make(\"CartPole-v1\")\n",
        "agent = CartpoleDQNAgent(env)\n",
        "\n",
        "obs = env.reset()\n",
        "done = False\n",
        "\n",
        "# setting up animation\n",
        "E_DECAY = 0.995\n",
        "\n",
        "cartDQNplot=[]\n",
        "cartepsilonplot=[]\n",
        "\n",
        "n_games = 500\n",
        "for i_episode in range(n_games):\n",
        "    state = env.reset()\n",
        "    reward = 0\n",
        "    while True:\n",
        "        action = agent.step(state)\n",
        "        state2, r, done, info = env.step(action)\n",
        "        x, x_dot, theta, theta_dot = state2\n",
        "        r1 = (env.x_threshold - abs(x)) / env.x_threshold - 0.8\n",
        "        r2 = (env.theta_threshold_radians - abs(theta)) / env.theta_threshold_radians - 0.5\n",
        "        r = r1 + r2\n",
        "\n",
        "        agent.buffer(state, action, r, state2)\n",
        "        reward += r\n",
        "        if agent.memory_counter > agent.maxReplayBuffer:\n",
        "            agent.train()\n",
        "\n",
        "        if done:\n",
        "            break\n",
        "        state = state2\n",
        "        if agent.epsilon > 0.01:\n",
        "          agent.epsilon *= agent.epsilonDecay\n",
        "    cartDQNplot.append(reward)\n",
        "\n",
        "cartDQNgreedy = []\n",
        "for i_episode in range(5):\n",
        "    s = env.reset()\n",
        "    ep_r = 0\n",
        "    while True:\n",
        "        a = agent.step(s)\n",
        "        s_, r, done, info = env.step(a)\n",
        "        x, x_dot, theta, theta_dot = s_\n",
        "        r1 = (env.x_threshold - abs(x)) / env.x_threshold - 0.8\n",
        "        r2 = (env.theta_threshold_radians - abs(theta)) / env.theta_threshold_radians - 0.5\n",
        "        r = r1 + r2\n",
        "        ep_r += r\n",
        "\n",
        "        if done:\n",
        "            break\n",
        "        s = s_\n",
        "        if agent.epsilon > 0.001:\n",
        "          agent.epsilon *= agent.epsilonDecay\n",
        "    cartDQNgreedy.append(ep_r)\n",
        "\n",
        "plt.plot(cartDQNplot)\n",
        "plt.title('cartpole DQN reward per ep')\n",
        "plt.xlabel('episodes')\n",
        "plt.ylabel('cumulativereward')\n",
        "plt.show()\n",
        "\n",
        "plt.plot(cartDQNgreedy)\n",
        "plt.title('cartpole DQN reward per ep')\n",
        "plt.xlabel('episodes')\n",
        "plt.ylabel('cumulativereward')\n",
        "plt.show()"
      ]
    },
    {
      "cell_type": "code",
      "execution_count": 19,
      "metadata": {
        "id": "z1XIeU8hDmmO"
      },
      "outputs": [],
      "source": [
        "computeUnit = torch.device(\"cpu\")\n",
        "\n",
        "class Network(torch.nn.Module):\n",
        "    def __init__(self):\n",
        "        super().__init__()\n",
        "        self.input_shape = env.observation_space.shape\n",
        "        self.action_space = action_space\n",
        "\n",
        "        self.fc1 = nn.Linear(4, 1024)\n",
        "        self.fc2 = nn.Linear(1024, 512)\n",
        "        self.fc3 = nn.Linear(512, 2)\n",
        "\n",
        "        self.optimizer = optim.Adam(self.parameters(), lr=0.0001)\n",
        "        self.loss = nn.MSELoss()\n",
        "        self.to(computeUnit)\n",
        "    \n",
        "    def forward(self, x):\n",
        "        x = F.relu(self.fc1(x))\n",
        "        x = F.relu(self.fc2(x))\n",
        "        x = self.fc3(x)\n",
        "\n",
        "        return x"
      ]
    },
    {
      "cell_type": "code",
      "execution_count": 20,
      "metadata": {
        "colab": {
          "base_uri": "https://localhost:8080/"
        },
        "id": "RMgVf0QPB7P1",
        "outputId": "0a122bd3-ac76-408b-c580-9cc5cc99ae5e"
      },
      "outputs": [
        {
          "name": "stderr",
          "output_type": "stream",
          "text": [
            "C:\\Users\\Naman\\AppData\\Local\\Temp\\ipykernel_12416\\2967741816.py:15: DeprecationWarning: `np.bool` is a deprecated alias for the builtin `bool`. To silence this warning, use `bool` by itself. Doing this will not modify any behavior and is safe. If you specifically wanted the numpy scalar type, use `np.bool_` here.\n",
            "Deprecated in NumPy 1.20; for more details and guidance: https://numpy.org/devdocs/release/1.20.0-notes.html#deprecations\n",
            "  self.dones = np.zeros(self.memSize, dtype=np.bool)\n"
          ]
        },
        {
          "name": "stdout",
          "output_type": "stream",
          "text": [
            "Episode 1 Average Reward 0.0 Best Reward 16.0 Last Reward 16.0\n",
            "Episode 3 Average Reward 8.666666666666666 Best Reward 17.0 Last Reward 17.0\n",
            "Episode 7 Average Reward 11.285714285714286 Best Reward 34.0 Last Reward 34.0\n",
            "Episode 33 Average Reward 11.363636363636363 Best Reward 85.0 Last Reward 85.0\n",
            "Episode 41 Average Reward 19.29268292682927 Best Reward 92.0 Last Reward 92.0\n",
            "Episode 43 Average Reward 21.930232558139537 Best Reward 100.0 Last Reward 100.0\n",
            "Episode 45 Average Reward 25.2 Best Reward 187.0 Last Reward 187.0\n",
            "Episode 46 Average Reward 28.717391304347824 Best Reward 349.0 Last Reward 349.0\n",
            "Episode 47 Average Reward 35.53191489361702 Best Reward 445.0 Last Reward 445.0\n",
            "Episode 48 Average Reward 44.0625 Best Reward 447.0 Last Reward 447.0\n",
            "Episode 53 Average Reward 70.90566037735849 Best Reward 572.0 Last Reward 572.0\n",
            "Episode 59 Average Reward 95.35593220338983 Best Reward 708.0 Last Reward 708.0\n",
            "Episode 120 Average Reward 256.80833333333334 Best Reward 866.0 Last Reward 866.0\n",
            "Episode 206 Average Reward 254.86893203883494 Best Reward 1622.0 Last Reward 1622.0\n",
            "Episode 208 Average Reward 262.0192307692308 Best Reward 28530.0 Last Reward 28530.0\n"
          ]
        },
        {
          "data": {
            "image/png": "[encoded data removed]",
            "text/plain": [
              "<Figure size 432x288 with 1 Axes>"
            ]
          },
          "metadata": {
            "needs_background": "light"
          },
          "output_type": "display_data"
        }
      ],
      "source": [
        "env = gym.make('CartPole-v1').unwrapped\n",
        "observation_space = env.observation_space.shape[0]\n",
        "action_space = env.action_space.n\n",
        "\n",
        "computeUnit = torch.device(\"cpu\")\n",
        "\n",
        "class ReplayBuffer:\n",
        "    def __init__(self, size=10000, batchSize=64):\n",
        "        self.mem_count = 0\n",
        "        self.memSize=size\n",
        "        self.batchSize=batchSize\n",
        "        self.states = np.zeros((self.memSize, *env.observation_space.shape),dtype=np.float32)\n",
        "        self.states2 = np.zeros((self.memSize, *env.observation_space.shape),dtype=np.float32)\n",
        "        self.actions = np.zeros(self.memSize, dtype=np.int64)\n",
        "        self.dones = np.zeros(self.memSize, dtype=np.bool)\n",
        "        self.rewards = np.zeros(self.memSize, dtype=np.float32)\n",
        "\n",
        "    \n",
        "    def add(self, state, action, reward, state2, done):\n",
        "        idx = self.mem_count % self.memSize\n",
        "        self.states[idx]  = state\n",
        "        self.states2[idx] = state2\n",
        "        self.rewards[idx] = reward\n",
        "        self.actions[idx] = action\n",
        "        self.dones[idx] =  1 - done\n",
        "        self.mem_count += 1\n",
        "    \n",
        "    def sample(self):\n",
        "        maxMem = min(self.mem_count, self.memSize)\n",
        "        idx = np.random.choice(maxMem, self.batchSize, replace=True)\n",
        "        states  = self.states[idx]\n",
        "        actions = self.actions[idx]\n",
        "        rewards = self.rewards[idx]\n",
        "        states2 = self.states2[idx]\n",
        "        dones   = self.dones[idx]\n",
        "        return states, actions, rewards, states2, dones\n",
        "\n",
        "class DDQN_Solver:\n",
        "    def __init__(self):\n",
        "        self.memory = ReplayBuffer()\n",
        "        self.epsilon = 1\n",
        "        self.epsilonDecay=0.99\n",
        "        self.learn_step_counter = 0\n",
        "        self.net_copy_interval = 10\n",
        "        self.model = Network()\n",
        "        self.model_target = Network()\n",
        "        self.batchSize=64\n",
        "        self.gamma=0.95\n",
        "        self.memory_counter = 0\n",
        "\n",
        "    def choose_action(self, observation):\n",
        "        if random.random() < self.epsilon:\n",
        "            return env.action_space.sample()\n",
        "        \n",
        "        state = torch.tensor(observation).float().detach()\n",
        "        state = state.to(computeUnit)\n",
        "        state = state.unsqueeze(0)\n",
        "        q_values = self.model(state)\n",
        "        return torch.argmax(q_values).item()\n",
        "\n",
        "    def buffer(self, state, action, reward, state2):\n",
        "        tmp = np.hstack((state, [action, reward], state2))\n",
        "        index = self.memory_counter % self.memory.memSize\n",
        "        self.replay_mem[index, :] = tmp\n",
        "        self.memory_counter += 1  \n",
        "\n",
        "    def learn(self):\n",
        "        if self.memory.mem_count < self.batchSize:\n",
        "            return\n",
        "        \n",
        "        states, actions, rewards, states2, dones = self.memory.sample()\n",
        "\n",
        "        states = torch.tensor(states , dtype=torch.float32).to(computeUnit)\n",
        "        states2 = torch.tensor(states2, dtype=torch.float32).to(computeUnit)\n",
        "        rewards = torch.tensor(rewards, dtype=torch.float32).to(computeUnit)\n",
        "        actions = torch.tensor(actions, dtype=torch.long).to(computeUnit)\n",
        "        dones = torch.tensor(dones, dtype=torch.bool).to(computeUnit)\n",
        "\n",
        "        idx = np.arange(self.batchSize, dtype=np.int64)\n",
        "\n",
        "        q_values = self.model(states)[idx, actions] \n",
        "        next_q_values = self.model_target(states2)\n",
        "        actions2 = self.model(states2).max(dim=1)[1]\n",
        "        actions2 = next_q_values[idx, actions2]\n",
        "\n",
        "        q_target = rewards + self.gamma * actions2 * dones\n",
        "        td = q_target - q_values\n",
        "\n",
        "        self.model.optimizer.zero_grad()\n",
        "        loss = ((td ** 2.0)).mean()\n",
        "        loss.backward()\n",
        "        self.model.optimizer.step()\n",
        "\n",
        "        if self.epsilon>0.001:\n",
        "            self.epsilon *= self.epsilonDecay\n",
        "\n",
        "        if self.learn_step_counter % self.net_copy_interval == 0:\n",
        "            self.model_target.load_state_dict(self.model.state_dict())\n",
        "\n",
        "        self.learn_step_counter += 1\n",
        "    \n",
        "agent = DDQN_Solver()\n",
        "best_reward = 0\n",
        "average_reward = 0\n",
        "episode_number = []\n",
        "average_reward_number = []\n",
        "rewardArr = []\n",
        "\n",
        "for i in range(1, 500):\n",
        "    state = env.reset()\n",
        "    state = np.reshape(state, [1, observation_space])\n",
        "    score = 0\n",
        "\n",
        "    while True:\n",
        "        #env.render()\n",
        "        action = agent.choose_action(state)\n",
        "        state_, reward, done, info = env.step(action)\n",
        "        state_ = np.reshape(state_, [1, observation_space])\n",
        "        agent.memory.add(state, action, reward, state_, done)\n",
        "        agent.learn()\n",
        "        state = state_\n",
        "        score += reward\n",
        "\n",
        "        if done:\n",
        "            if score > best_reward:\n",
        "                best_reward = score\n",
        "                print(\"Episode {} Average Reward {} Best Reward {} Last Reward {}\".format(i, average_reward/i, best_reward, score))\n",
        "            average_reward += score \n",
        "            break\n",
        "            \n",
        "        episode_number.append(i)\n",
        "        average_reward_number.append(average_reward/i)\n",
        "        rewardArr.append(score)\n",
        "\n",
        "plt.plot(episode_number, average_reward_number)\n",
        "plt.title('cartpole DDQN average reward per ep')\n",
        "plt.xlabel('episodes')\n",
        "plt.ylabel('reward')\n",
        "plt.show()"
      ]
    },
    {
      "cell_type": "code",
      "execution_count": 21,
      "metadata": {},
      "outputs": [
        {
          "data": {
            "image/png": "[encoded data removed]",
            "text/plain": [
              "<Figure size 432x288 with 1 Axes>"
            ]
          },
          "metadata": {
            "needs_background": "light"
          },
          "output_type": "display_data"
        }
      ],
      "source": [
        "plt.plot(episode_number, rewardArr)\n",
        "plt.plot(cartDQNplot)\n",
        "plt.title('cartpole DDQN vs DQN average reward per ep')\n",
        "plt.xlabel('episodes')\n",
        "plt.ylabel('reward')\n",
        "plt.show()"
      ]
    },
    {
      "cell_type": "markdown",
      "metadata": {},
      "source": []
    }
  ],
  "metadata": {
    "colab": {
      "collapsed_sections": [],
      "name": "RL_CARTPOLE.ipynb",
      "provenance": []
    },
    "kernelspec": {
      "display_name": "Python 3",
      "name": "python3"
    },
    "language_info": {
      "codemirror_mode": {
        "name": "ipython",
        "version": 3
      },
      "file_extension": ".py",
      "mimetype": "text/x-python",
      "name": "python",
      "nbconvert_exporter": "python",
      "pygments_lexer": "ipython3",
      "version": "3.10.4"
    }
  },
  "nbformat": 4,
  "nbformat_minor": 0
}
