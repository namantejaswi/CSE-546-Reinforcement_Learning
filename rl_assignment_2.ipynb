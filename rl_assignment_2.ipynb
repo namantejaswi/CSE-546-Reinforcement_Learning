{
  "nbformat": 4,
  "nbformat_minor": 0,
  "metadata": {
    "colab": {
      "name": "rl_assignment_2.ipynb",
      "provenance": [],
      "collapsed_sections": []
    },
    "kernelspec": {
      "name": "python3",
      "display_name": "Python 3"
    },
    "language_info": {
      "name": "python"
    }
  },
  "cells": [
    {
      "cell_type": "markdown",
      "source": [
        "# **Part 1**\n",
        "\n",
        "Rendering environment\n",
        "\n",
        "Kindly refer python file.\n",
        "\n",
        "\"We certify that the code and data in this assignment were generated independently, using only\n",
        "the tools and resources defined in the course and that we did not receive any external help,\n",
        "coaching or contributions during the production of this work.\"\n"
      ],
      "metadata": {
        "id": "sZ1AqjdvwV-E"
      }
    },
    {
      "cell_type": "code",
      "source": [
        "'''\n",
        "import gym \n",
        "\n",
        "env=gym.make(\"CartPole-v1\")\n",
        "\n",
        "env.reset()\n",
        "\n",
        "for i in range(200):\n",
        "    env.render()\n",
        "    env.step(env.action_space.sample())\n",
        "    \n",
        "env.close()\n",
        "\n",
        "mountain_car=gym.make(\"MountainCar-v0\")\n",
        "mountain_car.reset()\n",
        "\n",
        "for i in range(500):\n",
        "    mountain_car.render()\n",
        "    mountain_car.step(mountain_car.action_space.sample())\n",
        "\n",
        "mountain_car.close()\n",
        "'''"
      ],
      "metadata": {
        "id": "LKARHSy0wVoS"
      },
      "execution_count": null,
      "outputs": []
    },
    {
      "cell_type": "markdown",
      "source": [
        "# **DQN**"
      ],
      "metadata": {
        "id": "SOyQYtlmX-JK"
      }
    },
    {
      "cell_type": "code",
      "execution_count": null,
      "metadata": {
        "id": "9IpDEvMdeqev"
      },
      "outputs": [],
      "source": [
        "import numpy as np\n",
        "import matplotlib.pyplot as plt\n",
        "import gym\n",
        "import torch.optim as optim\n",
        "from torch.autograd import Variable\n",
        "import torch.nn.functional as F\n",
        "import random\n",
        "from collections import deque\n",
        "import torch\n",
        "import torch.nn as nn\n",
        "from gym import spaces\n",
        "import matplotlib.pyplot as plt"
      ]
    },
    {
      "cell_type": "code",
      "source": [
        "class GridEnvironment(gym.Env):\n",
        "\n",
        "    def __init__(self, maxTimesteps = 20, rows = 4, cols = 4, stochastic = False):\n",
        "        #grid should be square for generalization\n",
        "        self.rows = rows\n",
        "        self.cols = cols\n",
        "        self.observation_space = spaces.Discrete(self.rows*self.cols)\n",
        "        self.actions = {\"UP\":0, \"RIGHT\":1, \"DOWN\":2,\"LEFT\":3}\n",
        "        self.action_space = spaces.Discrete(len(self.actions))\n",
        "        self.maxTimesteps = maxTimesteps\n",
        "        self.state = np.zeros((self.rows, self.cols))\n",
        "        self.timestep = 0\n",
        "        self.agent_pos = [0, 0]\n",
        "        self.goal_pos = [self.rows-1, self.cols-1]\n",
        "        self.trap_pos = [1,1]\n",
        "        self.bonus_pos = [0,3]\n",
        "        self.reward = {tuple(self.goal_pos): 2, tuple(self.trap_pos) : -1, tuple(self.bonus_pos): 1}\n",
        "        self.rewardStates = {tuple(self.goal_pos), tuple(self.trap_pos), tuple(self.bonus_pos)}\n",
        "        self.state[tuple(self.agent_pos)] = 2\n",
        "        self.state[tuple(self.goal_pos)] = 0.5\n",
        "        self.state[tuple(self.trap_pos)] = 1\n",
        "        self.state[tuple(self.bonus_pos)] = 1.5\n",
        "        self.stochastic = stochastic\n",
        "        self.cumulativeReward = 0\n",
        "        self.done = False\n",
        "    \n",
        "    def reset(self):\n",
        "        self.state = np.zeros((self.rows, self.cols))\n",
        "        self.state[tuple(self.goal_pos)] = 0.5\n",
        "        self.state[tuple(self.trap_pos)] = 1\n",
        "        self.state[tuple(self.bonus_pos)] = 1.5\n",
        "        self.state[tuple(self.agent_pos)] = 2\n",
        "        self.cumulativeReward = 0\n",
        "        self.timestep = 0\n",
        "        self.bonus_pos = [0,3]\n",
        "        self.agent_pos = [0, 0]\n",
        "        self.goal_pos = [self.rows-1, self.cols-1]\n",
        "        self.trap_pos = [1,1]\n",
        "        observation = self.agent_pos\n",
        "        return observation\n",
        "    \n",
        "    def render(self):\n",
        "        plt.imshow(self.state)\n",
        "    \n",
        "    def step(self, action):\n",
        "    #adding stochasticity using random function\n",
        "        sign = 1\n",
        "        if self.stochastic:\n",
        "            if np.random.random(1)[0] < 0.2:\n",
        "                sign  = -1\n",
        "        if action == 0:\n",
        "            self.agent_pos[0] -= sign*1\n",
        "        elif action == 1:\n",
        "            self.agent_pos[1] += sign*1\n",
        "        elif action == 2:\n",
        "            self.agent_pos[0] += sign*1\n",
        "        elif action == 3:\n",
        "            self.agent_pos[1] -= sign*1\n",
        "\n",
        "        if self.agent_pos[0]<0:\n",
        "            self.agent_pos[0] = 0\n",
        "        elif self.agent_pos[1] < 0:\n",
        "            self.agent_pos[1] = 0\n",
        "        elif self.agent_pos[0] >= self.rows:\n",
        "            self.agent_pos[0] = self.rows-1\n",
        "        elif self.agent_pos[1] >= self.cols:\n",
        "            self.agent_pos[1] = self.cols-1\n",
        "        #print(\"agent: \", self.agent_pos)\n",
        "        #self.agent_pos = np.clip(self.agent_pos, 0, self.rows-1)\n",
        "\n",
        "        self.state = np.zeros((self.rows, self.cols))\n",
        "        self.state[tuple(self.goal_pos)] = 0.5\n",
        "        self.state[tuple(self.trap_pos)] = 1\n",
        "        self.state[tuple(self.bonus_pos)] = 1.5\n",
        "        self.state[tuple(self.agent_pos)] = 2\n",
        "        observation = self.agent_pos\n",
        "        self.timestep += 1\n",
        "        r = 0\n",
        "        if self.timestep >= self.maxTimesteps  and not (self.goal_pos[0]==self.agent_pos[0] and self.goal_pos[1]==self.agent_pos[1]):\n",
        "            r = -4\n",
        "        done = True if (self.timestep >= self.maxTimesteps or (self.goal_pos[0]==self.agent_pos[0] and self.goal_pos[1]==self.agent_pos[1])) else False\n",
        "        r+=self.getReward(self.agent_pos)\n",
        "        self.cumulativeReward+=r\n",
        "        info = {}\n",
        "\n",
        "        return observation, r, done, info\n",
        "\n",
        "    def getReward(self,pos):\n",
        "        if tuple(pos) not in self.rewardStates:\n",
        "            return -0.1\n",
        "        else:\n",
        "            return self.reward[tuple(pos)]"
      ],
      "metadata": {
        "id": "8lSbQdGFfVLh"
      },
      "execution_count": null,
      "outputs": []
    },
    {
      "cell_type": "code",
      "source": [
        "class NeuralLayer(nn.Module):\n",
        "    def __init__(self, ):\n",
        "        super(NeuralLayer, self).__init__()\n",
        "        #neural layer 1 - linear layer\n",
        "        self.nnlayer1 = nn.Linear(2, 32)\n",
        "        #normalizing weights of layer1\n",
        "        self.nnlayer1.weight.data.normal_(0, 0.1)\n",
        "\n",
        "        # final output 1-d size 4 vector\n",
        "        self.nnlayer2 = nn.Linear(32, 4)\n",
        "        #normalizing weights of layer2\n",
        "        self.nnlayer2.weight.data.normal_(0, 0.1)\n",
        "\n",
        "    def forward(self, x):\n",
        "        x = self.nnlayer1(x)\n",
        "        x = F.relu(x)\n",
        "        x = self.nnlayer2(x)\n",
        "        return x"
      ],
      "metadata": {
        "id": "WRCS1AdgVI-Z"
      },
      "execution_count": null,
      "outputs": []
    },
    {
      "cell_type": "code",
      "source": [
        "class DQNModel:\n",
        "    def __init__(self, env, maxReplayBufferSize = 1200, minBatchSize=50, batchSize=50, epsilon=1, epsilonDecay=0.99, update=100, gamma=0.9):\n",
        "        self.maxBufferSize=maxReplayBufferSize\n",
        "        self.minBatchSize=minBatchSize\n",
        "        self.batchSize=batchSize\n",
        "        self.epsilon=epsilon\n",
        "        self.update=update\n",
        "        self.gamma=gamma\n",
        "        self.replay_memory = deque(maxlen = maxReplayBufferSize)\n",
        "        self.model = NeuralLayer()\n",
        "        self.loss_func = nn.MSELoss()\n",
        "        self.optimizer = optim.Adam(self.model.parameters())\n",
        "        self.learn_counter = 0\n",
        "        self.observation_space = env.observation_space\n",
        "        self.action_space = env.action_space\n",
        "        self.env = env\n",
        "        self.target_model = NeuralLayer()\n",
        "        self.target_model.nnlayer1.weight = self.model.nnlayer1.weight\n",
        "        self.target_model.nnlayer2.weight = self.model.nnlayer2.weight\n",
        "        self.epsilonDecay=epsilonDecay\n",
        "\n",
        "    def step(self, agent_pos):\n",
        "        agent_pos = Variable(torch.unsqueeze(torch.FloatTensor(agent_pos), 0))\n",
        "        if np.random.uniform() > self.epsilon:\n",
        "          actions = self.model(agent_pos)\n",
        "          agent_pos = torch.max(actions, 1)[1].data.numpy()\n",
        "          agent_pos = agent_pos[0]\n",
        "        else:\n",
        "          agent_pos = np.random.randint(4)\n",
        "        return agent_pos\n",
        "        \n",
        "    def store_mem(self, state, action, reward, next_state, done):\n",
        "        #creating replay buffer\n",
        "        self.replay_memory.append((state, action, reward, next_state, done))\n",
        "\n",
        "    def train(self):\n",
        "        if len(self.replay_memory) < self.minBatchSize:\n",
        "          return\n",
        "\n",
        "        if self.learn_counter % self.update == 0:\n",
        "            self.target_model.nnlayer1.weight = self.model.nnlayer1.weight\n",
        "            self.target_model.nnlayer2.weight = self.model.nnlayer2.weight\n",
        "\n",
        "        batch = random.sample(self.replay_memory, self.batchSize)\n",
        "        batchObservations = zip(*batch)\n",
        "        state1, action, reward, state2, done =  list(batchObservations)\n",
        "        state1 = torch.FloatTensor(state1)\n",
        "        action = torch.LongTensor(action)\n",
        "        reward = torch.FloatTensor(reward).view(self.batchSize,1)\n",
        "        state2 = torch.FloatTensor(state2)\n",
        "        q_val = self.model(state1)\n",
        "        next_q_value = self.target_model(state2)  \n",
        "\n",
        "        q_target = torch.tensor([next_q_value[i].max()*self.gamma+reward[i] for i in range(self.batchSize)])\n",
        "        q_temp = q_val[:, 0]\n",
        "        for i in range(len(done)):\n",
        "          q_temp[i] = q_val[i][action[i]]\n",
        "          if done[i]:\n",
        "            q_target[i] = reward[i]\n",
        "                    \n",
        "        q_target = torch.FloatTensor(q_target)\n",
        "\n",
        "        loss = self.loss_func(q_temp, q_target)\n",
        "        self.optimizer.zero_grad()\n",
        "        loss.backward()\n",
        "        self.optimizer.step()\n",
        "        self.learn_counter += 1"
      ],
      "metadata": {
        "id": "SpZBM89PWoF6"
      },
      "execution_count": null,
      "outputs": []
    },
    {
      "cell_type": "code",
      "source": [
        "#DQN model\n",
        "env = GridEnvironment()\n",
        "agent = DQNModel(env)\n",
        "\n",
        "obs = env.reset()\n",
        "done = False\n",
        "\n",
        "gridDQNplot=[]\n",
        "epsilonArr = [agent.epsilon]\n",
        "\n",
        "#DQN run\n",
        "for i in range(1000):\n",
        "    state = env.reset()\n",
        "    encodedstate=np.array(range(0,16)).reshape(4,4)\n",
        "    done = False\n",
        "    cumulative_reward=0\n",
        "    env.ate = False\n",
        "    for k in range(env.maxTimesteps):\n",
        "      action = agent.step(env.agent_pos)\n",
        "      s = np.copy(env.agent_pos)\n",
        "      obs, reward, done, info = env.step(action)\n",
        "      s_ = np.copy(obs)\n",
        "      agent.store_mem(s, action, reward, s_, done)\n",
        "      cumulative_reward=env.cumulativeReward\n",
        "      # trains for every 3 time steps\n",
        "      if k%3 == 0:\n",
        "        agent.train()\n",
        "      if done: \n",
        "        break\n",
        "    if agent.epsilon>=0.001:\n",
        "      agent.epsilon*=agent.epsilonDecay\n",
        "    epsilonArr.append(agent.epsilon)\n",
        "    gridDQNplot.append(cumulative_reward)\n",
        "\n",
        "plt.plot(gridDQNplot)\n",
        "plt.title('Grid DQN reward per episode')\n",
        "plt.xlabel('episodes')\n",
        "plt.ylabel('cumulativereward')\n",
        "plt.show()\n",
        "\n",
        "plt.plot(epsilonArr)\n",
        "plt.title('Epsilon vs episode')\n",
        "plt.xlabel('episodes')\n",
        "plt.ylabel('epsilon')\n",
        "plt.show()"
      ],
      "metadata": {
        "colab": {
          "base_uri": "https://localhost:8080/",
          "height": 611
        },
        "id": "N5L7tQ5KaiSp",
        "outputId": "cf0d15ba-1ce2-46ee-c33b-942566c97f1c"
      },
      "execution_count": null,
      "outputs": [
        {
          "output_type": "stream",
          "name": "stderr",
          "text": [
            "/usr/local/lib/python3.7/dist-packages/ipykernel_launcher.py:47: UserWarning: Creating a tensor from a list of numpy.ndarrays is extremely slow. Please consider converting the list to a single numpy.ndarray with numpy.array() before converting to a tensor. (Triggered internally at  ../torch/csrc/utils/tensor_new.cpp:201.)\n"
          ]
        },
        {
          "output_type": "display_data",
          "data": {
            "text/plain": [
              "<Figure size 432x288 with 1 Axes>"
            ],
            "image/png": "[encoded data removed]"
          },
          "metadata": {
            "needs_background": "light"
          }
        },
        {
          "output_type": "display_data",
          "data": {
            "text/plain": [
              "<Figure size 432x288 with 1 Axes>"
            ],
            "image/png": "[encoded data removed]"
          },
          "metadata": {
            "needs_background": "light"
          }
        }
      ]
    },
    {
      "cell_type": "code",
      "source": [
        "gridDDQNgreedy = []\n",
        "for i in range(5):\n",
        "    state = env.reset()\n",
        "    done = False\n",
        "    cumulative_reward=0\n",
        "    env.ate = False\n",
        "    for _ in range(env.maxTimesteps):\n",
        "      action = agent.step(env.agent_pos)\n",
        "      obs, reward, done, info = env.step(action)\n",
        "      cumulative_reward+=reward\n",
        "      if done: \n",
        "        break\n",
        "    if agent.epsilon>=0.01:\n",
        "      agent.epsilon*=agent.epsilonDecay\n",
        "    gridDDQNgreedy.append(cumulative_reward)\n",
        "plt.plot(gridDDQNgreedy)\n",
        "plt.title('Grid DQN reward per episode (greedy)')\n",
        "plt.xlabel('episodes')\n",
        "plt.ylabel('cumulativereward')\n",
        "plt.show()"
      ],
      "metadata": {
        "colab": {
          "base_uri": "https://localhost:8080/",
          "height": 295
        },
        "id": "LgAPlHvXp98Y",
        "outputId": "7c17d884-47a1-49d0-93a4-5c65a7973919"
      },
      "execution_count": null,
      "outputs": [
        {
          "output_type": "display_data",
          "data": {
            "text/plain": [
              "<Figure size 432x288 with 1 Axes>"
            ],
            "image/png": "[encoded data removed]"
          },
          "metadata": {
            "needs_background": "light"
          }
        }
      ]
    },
    {
      "cell_type": "markdown",
      "source": [
        "# **Double DQN**"
      ],
      "metadata": {
        "id": "bTySQEAHYJMD"
      }
    },
    {
      "cell_type": "code",
      "source": [
        "class DoubleDQNModel:\n",
        "    def __init__(self, env, maxReplayBufferSize = 1200, minBatchSize=50, batchSize=50, epsilon=1, epsilonDecay=0.99, update=100, gamma=0.9):\n",
        "        self.maxBufferSize=maxReplayBufferSize\n",
        "        self.minBatchSize=minBatchSize\n",
        "        self.batchSize=batchSize\n",
        "        self.epsilon=epsilon\n",
        "        self.update=update\n",
        "        self.gamma=gamma\n",
        "        self.replay_memory = deque(maxlen = maxReplayBufferSize)\n",
        "        self.model = NeuralLayer()\n",
        "        self.loss_func = nn.MSELoss()\n",
        "        self.optimizer = optim.Adam(self.model.parameters())\n",
        "        self.learn_counter = 0\n",
        "        self.observation_space = env.observation_space\n",
        "        self.action_space = env.action_space\n",
        "        self.env = env\n",
        "        self.target_model = NeuralLayer()\n",
        "        self.target_model.nnlayer1.weight = self.model.nnlayer1.weight\n",
        "        self.target_model.nnlayer2.weight = self.model.nnlayer2.weight\n",
        "        self.epsilonDecay=epsilonDecay\n",
        "\n",
        "    def step(self, agent_pos):\n",
        "        agent_pos = Variable(torch.unsqueeze(torch.FloatTensor(agent_pos), 0))\n",
        "        if np.random.uniform() > self.epsilon:\n",
        "          actions = self.model(agent_pos)\n",
        "          agent_pos = torch.max(actions, 1)[1].data.numpy()\n",
        "          agent_pos = agent_pos[0]\n",
        "        else:\n",
        "          agent_pos = np.random.randint(4)\n",
        "        return agent_pos\n",
        "        \n",
        "    def store_mem(self, state, action, reward, next_state, done):\n",
        "        #creating replay buffer\n",
        "        self.replay_memory.append((state, action, reward, next_state, done))\n",
        "\n",
        "    def train(self):\n",
        "        if len(self.replay_memory) < self.minBatchSize:\n",
        "          return\n",
        "\n",
        "        if self.learn_counter % self.update == 0:\n",
        "            self.target_model.nnlayer1.weight = self.model.nnlayer1.weight\n",
        "            self.target_model.nnlayer2.weight = self.model.nnlayer2.weight\n",
        "\n",
        "        batch = random.sample(self.replay_memory, self.batchSize)\n",
        "        batchObservations = zip(*batch)\n",
        "        state1, action, reward, state2, done =  list(batchObservations)\n",
        "        state1 = torch.FloatTensor(state1)\n",
        "        action = torch.LongTensor(action)\n",
        "        reward = torch.FloatTensor(reward).view(self.batchSize,1)\n",
        "        state2 = torch.FloatTensor(state2)\n",
        "        \n",
        "        q_val = self.model(state2)\n",
        "        next_q_value = self.target_model(state2)  \n",
        "        \n",
        "        q_args = torch.tensor([torch.argmax(next_q_value[i]) for i in range(self.batchSize)])\n",
        "        q_temp = q_val[:, 0]\n",
        "        for i in range(self.batchSize):\n",
        "          q_temp[i] = q_val[i][q_args[i]]\n",
        "        q_temp = q_temp.view(self.batchSize, 1)\n",
        "        q_target = reward+self.gamma*q_temp\n",
        "        \n",
        "        q_val = self.model(state1)\n",
        "        q_temp = q_val[:, 0]\n",
        "        for i in range(self.batchSize):\n",
        "          q_temp[i] = q_val[i][action[i]]\n",
        "        q_temp = q_temp.view(self.batchSize,1)\n",
        "\n",
        "        loss = self.loss_func(q_temp, q_target)\n",
        "        self.optimizer.zero_grad()\n",
        "        loss.backward()\n",
        "        self.optimizer.step()\n",
        "        self.learn_counter += 1"
      ],
      "metadata": {
        "id": "fsC4Py40VTWg"
      },
      "execution_count": null,
      "outputs": []
    },
    {
      "cell_type": "code",
      "source": [
        "#Double DQN model\n",
        "env = GridEnvironment()\n",
        "agent = DoubleDQNModel(env)\n",
        "\n",
        "obs = env.reset()\n",
        "done = False\n",
        "\n",
        "gridDDQNplot=[]\n",
        "n_games = 1000\n",
        "epsilonArr = [agent.epsilon]\n",
        "\n",
        "#DQN run\n",
        "for i in range(n_games):\n",
        "    state = env.reset()\n",
        "    encodedstate=np.array(range(0,16)).reshape(4,4)\n",
        "    done = False\n",
        "    cumulative_reward=0\n",
        "    env.ate = False\n",
        "    for k in range(env.maxTimesteps):\n",
        "      action = agent.step(env.agent_pos)\n",
        "      s = np.copy(env.agent_pos)\n",
        "      obs, reward, done, info = env.step(action)\n",
        "      s_ = np.copy(obs)\n",
        "      agent.store_mem(s, action, reward, s_, done)\n",
        "      cumulative_reward=env.cumulativeReward\n",
        "      # trains for every 3 time steps\n",
        "      if k%3 == 0:\n",
        "        agent.train()\n",
        "      if done: \n",
        "        break\n",
        "    if agent.epsilon>=0.001:\n",
        "      agent.epsilon*=agent.epsilonDecay\n",
        "    epsilonArr.append(agent.epsilon)\n",
        "    gridDDQNplot.append(cumulative_reward)\n",
        "\n",
        "plt.plot(gridDDQNplot)\n",
        "plt.title('Grid Double DQN reward per episode')\n",
        "plt.xlabel('episodes')\n",
        "plt.ylabel('cumulativereward')\n",
        "plt.show()\n",
        "\n",
        "plt.plot(epsilonArr)\n",
        "plt.title('Epsilon vs episode')\n",
        "plt.xlabel('episodes')\n",
        "plt.ylabel('epsilon')\n",
        "plt.show()\n",
        "\n"
      ],
      "metadata": {
        "colab": {
          "base_uri": "https://localhost:8080/",
          "height": 573
        },
        "id": "BVrgWMipjdYG",
        "outputId": "56d432e9-4d13-4c65-b4d1-ac3b9ef4c635"
      },
      "execution_count": null,
      "outputs": [
        {
          "output_type": "display_data",
          "data": {
            "text/plain": [
              "<Figure size 432x288 with 1 Axes>"
            ],
            "image/png": "[encoded data removed]"
          },
          "metadata": {
            "needs_background": "light"
          }
        },
        {
          "output_type": "display_data",
          "data": {
            "text/plain": [
              "<Figure size 432x288 with 1 Axes>"
            ],
            "image/png": "[encoded data removed]"
          },
          "metadata": {
            "needs_background": "light"
          }
        }
      ]
    },
    {
      "cell_type": "code",
      "source": [
        "gridDDQNgreedy = []\n",
        "for i in range(5):\n",
        "    state = env.reset()\n",
        "    done = False\n",
        "    cumulative_reward=0\n",
        "    env.ate = False\n",
        "    for _ in range(env.maxTimesteps):\n",
        "      action = agent.step(env.agent_pos)\n",
        "      obs, reward, done, info = env.step(action)\n",
        "      cumulative_reward+=reward\n",
        "      if done: \n",
        "        break\n",
        "    # EPSILON = EPSILON - 2/n_games if EPSILON > 0.01 else 0.01\n",
        "    if agent.epsilon>=0.01:\n",
        "      agent.epsilon*=agent.epsilonDecay\n",
        "    gridDDQNgreedy.append(cumulative_reward)\n",
        "plt.plot(gridDDQNgreedy)\n",
        "plt.title('Grid Double DQN reward per episode (greedy)')\n",
        "plt.xlabel('episodes')\n",
        "plt.ylabel('cumulativereward')\n",
        "plt.show()"
      ],
      "metadata": {
        "colab": {
          "base_uri": "https://localhost:8080/",
          "height": 295
        },
        "id": "P8UGmEQbpi_W",
        "outputId": "4798de53-66b5-4431-e057-24b910e6eea6"
      },
      "execution_count": null,
      "outputs": [
        {
          "output_type": "display_data",
          "data": {
            "text/plain": [
              "<Figure size 432x288 with 1 Axes>"
            ],
            "image/png": "[encoded data removed]"
          },
          "metadata": {
            "needs_background": "light"
          }
        }
      ]
    },
    {
      "cell_type": "code",
      "source": [
        "plt.plot(gridDDQNgreedy, label=\"gridDDQNgreedy\")\n",
        "plt.plot(gridDQNgreedy, label=\"gridDQNgreedy\")\n",
        "plt.title('Grid Double DQN  and DQN reward per episode')\n",
        "plt.xlabel('episodes')\n",
        "plt.ylabel('cumulativereward')\n",
        "plt.legend(loc='best')\n",
        "plt.show()"
      ],
      "metadata": {
        "id": "R8n4LxQ4vjLj",
        "colab": {
          "base_uri": "https://localhost:8080/",
          "height": 295
        },
        "outputId": "58ceb304-b745-4ae7-86ab-66a3180d2bf2"
      },
      "execution_count": null,
      "outputs": [
        {
          "output_type": "display_data",
          "data": {
            "text/plain": [
              "<Figure size 432x288 with 1 Axes>"
            ],
            "image/png": "[encoded data removed]"
          },
          "metadata": {
            "needs_background": "light"
          }
        }
      ]
    },
    {
      "cell_type": "markdown",
      "source": [
        "# **CartPole-v1**"
      ],
      "metadata": {
        "id": "LotXYTqPCWV6"
      }
    },
    {
      "cell_type": "code",
      "source": [
        "computeUnit = torch.device(\"cpu\")\n",
        "\n",
        "class Network(torch.nn.Module):\n",
        "    def __init__(self):\n",
        "        super().__init__()\n",
        "        self.input_shape = env.observation_space.shape\n",
        "        self.action_space = action_space\n",
        "\n",
        "        self.fc1 = nn.Linear(4, 1024)\n",
        "        self.fc2 = nn.Linear(1024, 512)\n",
        "        self.fc3 = nn.Linear(512, 2)\n",
        "\n",
        "        self.optimizer = optim.Adam(self.parameters(), lr=0.0001)\n",
        "        self.loss = nn.MSELoss()\n",
        "        self.to(computeUnit)\n",
        "    \n",
        "    def forward(self, x):\n",
        "        x = F.relu(self.fc1(x))\n",
        "        x = F.relu(self.fc2(x))\n",
        "        x = self.fc3(x)\n",
        "\n",
        "        return x\n"
      ],
      "metadata": {
        "id": "wOhX_HklCNvQ"
      },
      "execution_count": null,
      "outputs": []
    },
    {
      "cell_type": "code",
      "source": [
        "env = gym.make('CartPole-v1').unwrapped\n",
        "observation_space = env.observation_space.shape[0]\n",
        "action_space = env.action_space.n\n",
        "\n",
        "computeUnit = torch.device(\"cpu\")\n",
        "\n",
        "class ReplayBuffer:\n",
        "    def __init__(self, size=10000, batchSize=64):\n",
        "        self.mem_count = 0\n",
        "        self.memSize=size\n",
        "        self.batchSize=batchSize\n",
        "        self.states = np.zeros((self.memSize, *env.observation_space.shape),dtype=np.float32)\n",
        "        self.states2 = np.zeros((self.memSize, *env.observation_space.shape),dtype=np.float32)\n",
        "        self.actions = np.zeros(self.memSize, dtype=np.int64)\n",
        "        self.dones = np.zeros(self.memSize, dtype=np.bool)\n",
        "        self.rewards = np.zeros(self.memSize, dtype=np.float32)\n",
        "\n",
        "    \n",
        "    def add(self, state, action, reward, state2, done):\n",
        "        idx = self.mem_count % self.memSize\n",
        "        self.states[idx]  = state\n",
        "        self.states2[idx] = state2\n",
        "        self.rewards[idx] = reward\n",
        "        self.actions[idx] = action\n",
        "        self.dones[idx] =  1 - done\n",
        "        self.mem_count += 1\n",
        "    \n",
        "    def sample(self):\n",
        "        maxMem = min(self.mem_count, self.memSize)\n",
        "        idx = np.random.choice(maxMem, self.batchSize, replace=True)\n",
        "        states  = self.states[idx]\n",
        "        actions = self.actions[idx]\n",
        "        rewards = self.rewards[idx]\n",
        "        states2 = self.states2[idx]\n",
        "        dones   = self.dones[idx]\n",
        "        return states, actions, rewards, states2, dones\n",
        "\n",
        "class DQN_Solver:\n",
        "    def __init__(self):\n",
        "        self.memory = ReplayBuffer()\n",
        "        self.epsilon = 1\n",
        "        self.epsilonDecay=0.99\n",
        "        self.learn_step_counter = 0\n",
        "        self.net_copy_interval = 10\n",
        "        self.model = Network()\n",
        "        self.model_target = Network()\n",
        "        self.batchSize=64\n",
        "        self.gamma=0.95\n",
        "        self.memory_counter = 0\n",
        "\n",
        "    def choose_action(self, observation):\n",
        "        if random.random() < self.epsilon:\n",
        "            return env.action_space.sample()\n",
        "        \n",
        "        state = torch.tensor(observation).float().detach()\n",
        "        state = state.to(computeUnit)\n",
        "        state = state.unsqueeze(0)\n",
        "        q_values = self.model(state)\n",
        "        return torch.argmax(q_values).item()\n",
        "\n",
        "    def buffer(self, state, action, reward, state2):\n",
        "        tmp = np.hstack((state, [action, reward], state2))\n",
        "        index = self.memory_counter % self.memory.memSize\n",
        "        self.replay_mem[index, :] = tmp\n",
        "        self.memory_counter += 1  \n",
        "\n",
        "    def learn(self):\n",
        "        if self.memory.mem_count < self.batchSize:\n",
        "            return\n",
        "        \n",
        "        states, actions, rewards, states2, dones = self.memory.sample()\n",
        "\n",
        "        states = torch.tensor(states , dtype=torch.float32).to(computeUnit)\n",
        "        states2 = torch.tensor(states2, dtype=torch.float32).to(computeUnit)\n",
        "        rewards = torch.tensor(rewards, dtype=torch.float32).to(computeUnit)\n",
        "        actions = torch.tensor(actions, dtype=torch.long).to(computeUnit)\n",
        "        dones = torch.tensor(dones, dtype=torch.bool).to(computeUnit)\n",
        "\n",
        "        idx = np.arange(self.batchSize, dtype=np.int64)\n",
        "\n",
        "        q_values = self.model(states)[idx, actions] \n",
        "        next_q_values = self.model_target(states2)\n",
        "        actions_ = self.model(states2).max(dim=1)[1]\n",
        "        actions_ = next_q_values[idx, actions_]\n",
        "\n",
        "        q_target = rewards + self.gamma * actions_ * dones\n",
        "        td = q_target - q_values\n",
        "\n",
        "        self.model.optimizer.zero_grad()\n",
        "        loss = ((td ** 2.0)).mean()\n",
        "        loss.backward()\n",
        "        self.model.optimizer.step()\n",
        "\n",
        "        if self.epsilon>0.001:\n",
        "            self.epsilon *= self.epsilonDecay\n",
        "\n",
        "        if self.learn_step_counter % self.net_copy_interval == 0:\n",
        "            self.model_target.load_state_dict(self.model.state_dict())\n",
        "\n",
        "        self.learn_step_counter += 1\n",
        "    \n",
        "agent = DQN_Solver()\n",
        "best_reward = 0\n",
        "average_reward = 0\n",
        "episode_number = []\n",
        "average_reward_number = []\n",
        "\n",
        "for i in range(1, 100):\n",
        "    state = env.reset()\n",
        "    state = np.reshape(state, [1, observation_space])\n",
        "    score = 0\n",
        "\n",
        "    while True:\n",
        "        #env.render()\n",
        "        action = agent.choose_action(state)\n",
        "        state_, reward, done, info = env.step(action)\n",
        "        state_ = np.reshape(state_, [1, observation_space])\n",
        "        agent.memory.add(state, action, reward, state_, done)\n",
        "        agent.learn()\n",
        "        state = state_\n",
        "        score += reward\n",
        "\n",
        "        if done:\n",
        "            if score > best_reward:\n",
        "                best_reward = score\n",
        "                print(\"Episode {} Average Reward {} Best Reward {} Last Reward {}\".format(i, average_reward/i, best_reward, score))\n",
        "            average_reward += score \n",
        "            break\n",
        "            \n",
        "        episode_number.append(i)\n",
        "        average_reward_number.append(average_reward/i)\n",
        "\n",
        "plt.plot(episode_number, average_reward_number)\n",
        "plt.title('cartpole DQN average reward per ep')\n",
        "plt.xlabel('episodes')\n",
        "plt.ylabel('reward')\n",
        "plt.show()"
      ],
      "metadata": {
        "id": "iJAtIGMaw_la"
      },
      "execution_count": null,
      "outputs": []
    }
  ]
}