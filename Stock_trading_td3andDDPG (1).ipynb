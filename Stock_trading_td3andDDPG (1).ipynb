{
  "nbformat": 4,
  "nbformat_minor": 0,
  "metadata": {
    "colab": {
      "name": "Stock_trading td3andDDPG.ipynb",
      "provenance": [],
      "collapsed_sections": []
    },
    "kernelspec": {
      "name": "python3",
      "display_name": "Python 3"
    },
    "language_info": {
      "name": "python"
    }
  },
  "cells": [
    {
      "cell_type": "markdown",
      "source": [
        "Environment creation"
      ],
      "metadata": {
        "id": "FTCZeKswTfs1"
      }
    },
    {
      "cell_type": "code",
      "source": [
        "!pip install yfinance \n",
        "!pip install yahoo_fin \n",
        "!pip install gym-anytrading"
      ],
      "metadata": {
        "id": "UeT9tVXfUstg",
        "colab": {
          "base_uri": "https://localhost:8080/"
        },
        "outputId": "d38fce12-2a08-4cb5-9f71-597b28a6623c"
      },
      "execution_count": null,
      "outputs": [
        {
          "output_type": "stream",
          "name": "stdout",
          "text": [
            "Requirement already satisfied: yfinance in /usr/local/lib/python3.7/dist-packages (0.1.70)\n",
            "Requirement already satisfied: multitasking>=0.0.7 in /usr/local/lib/python3.7/dist-packages (from yfinance) (0.0.10)\n",
            "Requirement already satisfied: numpy>=1.15 in /usr/local/lib/python3.7/dist-packages (from yfinance) (1.21.6)\n",
            "Requirement already satisfied: requests>=2.26 in /usr/local/lib/python3.7/dist-packages (from yfinance) (2.27.1)\n",
            "Requirement already satisfied: pandas>=0.24.0 in /usr/local/lib/python3.7/dist-packages (from yfinance) (1.3.5)\n",
            "Requirement already satisfied: lxml>=4.5.1 in /usr/local/lib/python3.7/dist-packages (from yfinance) (4.8.0)\n",
            "Requirement already satisfied: pytz>=2017.3 in /usr/local/lib/python3.7/dist-packages (from pandas>=0.24.0->yfinance) (2022.1)\n",
            "Requirement already satisfied: python-dateutil>=2.7.3 in /usr/local/lib/python3.7/dist-packages (from pandas>=0.24.0->yfinance) (2.8.2)\n",
            "Requirement already satisfied: six>=1.5 in /usr/local/lib/python3.7/dist-packages (from python-dateutil>=2.7.3->pandas>=0.24.0->yfinance) (1.15.0)\n",
            "Requirement already satisfied: idna<4,>=2.5 in /usr/local/lib/python3.7/dist-packages (from requests>=2.26->yfinance) (2.10)\n",
            "Requirement already satisfied: certifi>=2017.4.17 in /usr/local/lib/python3.7/dist-packages (from requests>=2.26->yfinance) (2021.10.8)\n",
            "Requirement already satisfied: urllib3<1.27,>=1.21.1 in /usr/local/lib/python3.7/dist-packages (from requests>=2.26->yfinance) (1.26.9)\n",
            "Requirement already satisfied: charset-normalizer~=2.0.0 in /usr/local/lib/python3.7/dist-packages (from requests>=2.26->yfinance) (2.0.12)\n",
            "Requirement already satisfied: yahoo_fin in /usr/local/lib/python3.7/dist-packages (0.8.9.1)\n",
            "Requirement already satisfied: requests in /usr/local/lib/python3.7/dist-packages (from yahoo_fin) (2.27.1)\n",
            "Requirement already satisfied: pandas in /usr/local/lib/python3.7/dist-packages (from yahoo_fin) (1.3.5)\n",
            "Requirement already satisfied: feedparser in /usr/local/lib/python3.7/dist-packages (from yahoo_fin) (6.0.8)\n",
            "Requirement already satisfied: requests-html in /usr/local/lib/python3.7/dist-packages (from yahoo_fin) (0.10.0)\n",
            "Requirement already satisfied: sgmllib3k in /usr/local/lib/python3.7/dist-packages (from feedparser->yahoo_fin) (1.0.0)\n",
            "Requirement already satisfied: numpy>=1.17.3 in /usr/local/lib/python3.7/dist-packages (from pandas->yahoo_fin) (1.21.6)\n",
            "Requirement already satisfied: python-dateutil>=2.7.3 in /usr/local/lib/python3.7/dist-packages (from pandas->yahoo_fin) (2.8.2)\n",
            "Requirement already satisfied: pytz>=2017.3 in /usr/local/lib/python3.7/dist-packages (from pandas->yahoo_fin) (2022.1)\n",
            "Requirement already satisfied: six>=1.5 in /usr/local/lib/python3.7/dist-packages (from python-dateutil>=2.7.3->pandas->yahoo_fin) (1.15.0)\n",
            "Requirement already satisfied: idna<4,>=2.5 in /usr/local/lib/python3.7/dist-packages (from requests->yahoo_fin) (2.10)\n",
            "Requirement already satisfied: charset-normalizer~=2.0.0 in /usr/local/lib/python3.7/dist-packages (from requests->yahoo_fin) (2.0.12)\n",
            "Requirement already satisfied: certifi>=2017.4.17 in /usr/local/lib/python3.7/dist-packages (from requests->yahoo_fin) (2021.10.8)\n",
            "Requirement already satisfied: urllib3<1.27,>=1.21.1 in /usr/local/lib/python3.7/dist-packages (from requests->yahoo_fin) (1.26.9)\n",
            "Requirement already satisfied: pyquery in /usr/local/lib/python3.7/dist-packages (from requests-html->yahoo_fin) (1.4.3)\n",
            "Requirement already satisfied: fake-useragent in /usr/local/lib/python3.7/dist-packages (from requests-html->yahoo_fin) (0.1.11)\n",
            "Requirement already satisfied: w3lib in /usr/local/lib/python3.7/dist-packages (from requests-html->yahoo_fin) (1.22.0)\n",
            "Requirement already satisfied: parse in /usr/local/lib/python3.7/dist-packages (from requests-html->yahoo_fin) (1.19.0)\n",
            "Requirement already satisfied: bs4 in /usr/local/lib/python3.7/dist-packages (from requests-html->yahoo_fin) (0.0.1)\n",
            "Requirement already satisfied: pyppeteer>=0.0.14 in /usr/local/lib/python3.7/dist-packages (from requests-html->yahoo_fin) (1.0.2)\n",
            "Requirement already satisfied: tqdm<5.0.0,>=4.42.1 in /usr/local/lib/python3.7/dist-packages (from pyppeteer>=0.0.14->requests-html->yahoo_fin) (4.64.0)\n",
            "Requirement already satisfied: websockets<11.0,>=10.0 in /usr/local/lib/python3.7/dist-packages (from pyppeteer>=0.0.14->requests-html->yahoo_fin) (10.3)\n",
            "Requirement already satisfied: appdirs<2.0.0,>=1.4.3 in /usr/local/lib/python3.7/dist-packages (from pyppeteer>=0.0.14->requests-html->yahoo_fin) (1.4.4)\n",
            "Requirement already satisfied: pyee<9.0.0,>=8.1.0 in /usr/local/lib/python3.7/dist-packages (from pyppeteer>=0.0.14->requests-html->yahoo_fin) (8.2.2)\n",
            "Requirement already satisfied: importlib-metadata>=1.4 in /usr/local/lib/python3.7/dist-packages (from pyppeteer>=0.0.14->requests-html->yahoo_fin) (4.11.3)\n",
            "Requirement already satisfied: typing-extensions>=3.6.4 in /usr/local/lib/python3.7/dist-packages (from importlib-metadata>=1.4->pyppeteer>=0.0.14->requests-html->yahoo_fin) (4.2.0)\n",
            "Requirement already satisfied: zipp>=0.5 in /usr/local/lib/python3.7/dist-packages (from importlib-metadata>=1.4->pyppeteer>=0.0.14->requests-html->yahoo_fin) (3.8.0)\n",
            "Requirement already satisfied: beautifulsoup4 in /usr/local/lib/python3.7/dist-packages (from bs4->requests-html->yahoo_fin) (4.6.3)\n",
            "Requirement already satisfied: cssselect>0.7.9 in /usr/local/lib/python3.7/dist-packages (from pyquery->requests-html->yahoo_fin) (1.1.0)\n",
            "Requirement already satisfied: lxml>=2.1 in /usr/local/lib/python3.7/dist-packages (from pyquery->requests-html->yahoo_fin) (4.8.0)\n",
            "Requirement already satisfied: gym-anytrading in /usr/local/lib/python3.7/dist-packages (1.2.0)\n",
            "Requirement already satisfied: pandas>=0.24.2 in /usr/local/lib/python3.7/dist-packages (from gym-anytrading) (1.3.5)\n",
            "Requirement already satisfied: numpy>=1.16.4 in /usr/local/lib/python3.7/dist-packages (from gym-anytrading) (1.21.6)\n",
            "Requirement already satisfied: matplotlib>=3.1.1 in /usr/local/lib/python3.7/dist-packages (from gym-anytrading) (3.2.2)\n",
            "Requirement already satisfied: gym>=0.12.5 in /usr/local/lib/python3.7/dist-packages (from gym-anytrading) (0.17.3)\n",
            "Requirement already satisfied: cloudpickle<1.7.0,>=1.2.0 in /usr/local/lib/python3.7/dist-packages (from gym>=0.12.5->gym-anytrading) (1.3.0)\n",
            "Requirement already satisfied: scipy in /usr/local/lib/python3.7/dist-packages (from gym>=0.12.5->gym-anytrading) (1.4.1)\n",
            "Requirement already satisfied: pyglet<=1.5.0,>=1.4.0 in /usr/local/lib/python3.7/dist-packages (from gym>=0.12.5->gym-anytrading) (1.5.0)\n",
            "Requirement already satisfied: kiwisolver>=1.0.1 in /usr/local/lib/python3.7/dist-packages (from matplotlib>=3.1.1->gym-anytrading) (1.4.2)\n",
            "Requirement already satisfied: python-dateutil>=2.1 in /usr/local/lib/python3.7/dist-packages (from matplotlib>=3.1.1->gym-anytrading) (2.8.2)\n",
            "Requirement already satisfied: pyparsing!=2.0.4,!=2.1.2,!=2.1.6,>=2.0.1 in /usr/local/lib/python3.7/dist-packages (from matplotlib>=3.1.1->gym-anytrading) (3.0.8)\n",
            "Requirement already satisfied: cycler>=0.10 in /usr/local/lib/python3.7/dist-packages (from matplotlib>=3.1.1->gym-anytrading) (0.11.0)\n",
            "Requirement already satisfied: typing-extensions in /usr/local/lib/python3.7/dist-packages (from kiwisolver>=1.0.1->matplotlib>=3.1.1->gym-anytrading) (4.2.0)\n",
            "Requirement already satisfied: pytz>=2017.3 in /usr/local/lib/python3.7/dist-packages (from pandas>=0.24.2->gym-anytrading) (2022.1)\n",
            "Requirement already satisfied: future in /usr/local/lib/python3.7/dist-packages (from pyglet<=1.5.0,>=1.4.0->gym>=0.12.5->gym-anytrading) (0.16.0)\n",
            "Requirement already satisfied: six>=1.5 in /usr/local/lib/python3.7/dist-packages (from python-dateutil>=2.1->matplotlib>=3.1.1->gym-anytrading) (1.15.0)\n"
          ]
        }
      ]
    },
    {
      "cell_type": "code",
      "source": [
        "import yfinance as yf\n",
        "import yahoo_fin as y_fin\n",
        "import numpy as np\n",
        "import pandas as pd\n",
        "from gym.utils import seeding\n",
        "import gym\n",
        "import csv\n",
        "from gym import spaces\n",
        "from datetime import datetime\n",
        "import matplotlib.pyplot as plt\n",
        "from datetime import datetime\n",
        "from calendar import isleap"
      ],
      "metadata": {
        "id": "4OgNsql3VOVM"
      },
      "execution_count": null,
      "outputs": []
    },
    {
      "cell_type": "code",
      "source": [
        "Stocks=[\"AMZN\",\"MSFT\",\"GOOG\"]\n",
        "\n",
        "apple=yf.Ticker(\"AAPL\")\n",
        "amazon=yf.Ticker(\"AMZN\")\n",
        "msft=yf.Ticker(\"MSFT\")"
      ],
      "metadata": {
        "id": "vF9Ic4S3VIY_"
      },
      "execution_count": null,
      "outputs": []
    },
    {
      "cell_type": "code",
      "source": [
        "appledf = apple.history(start=\"2010-06-02\", end=\"2022-05-01\")[[\"Open\", \"High\", \"Low\", \"Close\", \"Volume\"]].reset_index(drop=True)\n",
        "amazondf = amazon.history(start=\"2010-06-02\", end=\"2022-05-01\")[[\"Open\", \"High\", \"Low\", \"Close\", \"Volume\"]].reset_index(drop=True)\n",
        "msftdf = msft.history(start=\"2010-06-02\", end=\"2022-05-01\")[[\"Open\", \"High\", \"Low\", \"Close\", \"Volume\"]].reset_index(drop=True)\n",
        "print(appledf.shape)\n",
        "print(appledf.head)"
      ],
      "metadata": {
        "id": "Iz33lZEWVwZt",
        "colab": {
          "base_uri": "https://localhost:8080/"
        },
        "outputId": "3ecbc6ba-e25f-47f2-f43c-2c7857063083"
      },
      "execution_count": null,
      "outputs": [
        {
          "output_type": "stream",
          "name": "stdout",
          "text": [
            "(3000, 5)\n",
            "<bound method NDFrame.head of             Open        High         Low       Close      Volume\n",
            "0       8.089956    8.097907    7.961209    8.071914   688548000\n",
            "1       8.109527    8.120843    7.963655    8.046531   650106800\n",
            "2       7.896378    8.009223    7.786898    7.827571   758304400\n",
            "3       7.898821    7.925120    7.662122    7.674049   886942000\n",
            "4       7.744392    7.761518    7.512281    7.624820  1000770400\n",
            "...          ...         ...         ...         ...         ...\n",
            "2995  161.119995  163.169998  158.460007  162.880005    96046400\n",
            "2996  162.250000  162.339996  156.720001  156.800003    95623200\n",
            "2997  155.910004  159.789993  155.380005  156.570007    88063200\n",
            "2998  159.250000  164.520004  158.929993  163.639999   130216800\n",
            "2999  161.839996  166.199997  157.250000  157.649994   131587100\n",
            "\n",
            "[3000 rows x 5 columns]>\n"
          ]
        }
      ]
    },
    {
      "cell_type": "code",
      "source": [
        "import gym\n",
        "import gym_anytrading\n",
        "from gym_anytrading.envs import TradingEnv, ForexEnv, StocksEnv, Actions, Positions \n",
        "from gym_anytrading.datasets import FOREX_EURUSD_1H_ASK, STOCKS_GOOGL\n",
        "import matplotlib.pyplot as plt\n",
        "\n",
        "#env = gym.make('forex-v0', frame_bound=(50, 100), window_size=10 )\n",
        "env = gym.make('stocks-v0', df = appledf, frame_bound=(10,100), window_size=10)\n",
        "env1 = gym.make('stocks-v0', df = amazondf, frame_bound=(10, 100), window_size=10)\n",
        "env2 = gym.make('stocks-v0', df = msftdf, frame_bound=(10, 100), window_size=10)\n"
      ],
      "metadata": {
        "id": "_fzdOl4_ZD2_"
      },
      "execution_count": null,
      "outputs": []
    },
    {
      "cell_type": "code",
      "source": [
        "env.action_space.n"
      ],
      "metadata": {
        "colab": {
          "base_uri": "https://localhost:8080/"
        },
        "id": "wPZjBlAohkTt",
        "outputId": "155ec5e8-add3-4b03-d354-b8f1bef87286"
      },
      "execution_count": null,
      "outputs": [
        {
          "output_type": "execute_result",
          "data": {
            "text/plain": [
              "2"
            ]
          },
          "metadata": {},
          "execution_count": 79
        }
      ]
    },
    {
      "cell_type": "code",
      "source": [
        "print(env.action_space)\n",
        "print(env.observation_space)"
      ],
      "metadata": {
        "colab": {
          "base_uri": "https://localhost:8080/"
        },
        "id": "Dchk_jGwdpDh",
        "outputId": "69b08930-e1f2-41c5-872d-d5b9394b4311"
      },
      "execution_count": null,
      "outputs": [
        {
          "output_type": "stream",
          "name": "stdout",
          "text": [
            "Discrete(2)\n",
            "Box(-inf, inf, (3000, 2), float32)\n"
          ]
        }
      ]
    },
    {
      "cell_type": "code",
      "source": [
        "import pandas\n",
        "# Importing libraries\n",
        "import gym\n",
        "import numpy as np\n",
        "import torch.nn as nn\n",
        "import torch.nn.functional as F\n",
        "import torch.optim as optim\n",
        "from torch.distributions import Categorical\n",
        "import torch as T\n",
        "from gym import spaces\n",
        "import torch.autograd as autograd \n"
      ],
      "metadata": {
        "id": "uL45kvl0UpQD"
      },
      "execution_count": null,
      "outputs": []
    },
    {
      "cell_type": "code",
      "source": [
        "import numpy as np\n",
        "\n",
        "class OUActionNoise:\n",
        "    def __init__(self, action_space, mu = 0, sigma=0.4, theta=.01, scale=0.1):\n",
        "        self.theta = theta\n",
        "        self.mu = mu*np.ones(action_space)\n",
        "        self.sigma = sigma\n",
        "        self.scale = scale\n",
        "        self.reset()\n",
        "\n",
        "    def __call__(self):\n",
        "        x = self.x_prev + self.theta * (self.mu - self.x_prev) + self.sigma * np.random.normal(size=self.mu.shape)\n",
        "        self.x_prev = x\n",
        "        return x * self.scale\n",
        "\n",
        "    def reset(self):\n",
        "        self.x_prev = np.zeros_like(self.mu)"
      ],
      "metadata": {
        "id": "w3Lxm2jkJBgI"
      },
      "execution_count": null,
      "outputs": []
    },
    {
      "cell_type": "code",
      "execution_count": null,
      "metadata": {
        "id": "VrH9QFt8MpP1"
      },
      "outputs": [],
      "source": [
        "import time\n",
        "from collections import deque\n",
        "\n",
        "class ReplayBuffer():\n",
        "    def __init__(self, env , action_available,  size=1000, batch_size=100):\n",
        "        self.size=size\n",
        "        self.count=0\n",
        "        self.env=env\n",
        "        self.action_available=action_available\n",
        "        self.batch_size=batch_size\n",
        "        self.buffer = deque(maxlen=self.size)\n",
        "\n",
        "    def reset(self):\n",
        "        self.count=0\n",
        "        self.buffer = deque(maxlen=self.size)\n",
        "\n",
        "    def add(self, prev_state, action, reward, next_state, done):\n",
        "        if self.count<self.size:\n",
        "            self.buffer.append((prev_state, action, reward, next_state, done))\n",
        "        else:\n",
        "            idx = self.count%self.size\n",
        "            self.buffer[idx] = (prev_state, action, reward, next_state, done)\n",
        "            self.count+=1\n",
        "            self.count%=self.size\n",
        "        \n",
        "    def getSampledData(self):\n",
        "        mlength = min(self.size, self.count)\n",
        "        random_index_array = np.random.choice(self.buffer,self.batch_size, replace=True)\n",
        "        prev_state, action, reward, next_state, done = zip(*random_index_array)\n",
        "        prev_state = np.array(prev_state, dtype=np.float64)\n",
        "        action = np.array(action, dtype=np.float64)\n",
        "        reward = np.array(reward, dtype=np.float64)\n",
        "        next_state = np.array(next_state, dtype=np.float64)\n",
        "        done = np.array(done, dtype=np.float64)\n",
        "        return prev_state, action, reward, next_state, done"
      ]
    },
    {
      "cell_type": "code",
      "source": [
        "class Critic(nn.Module):\n",
        "    def __init__(self, state=4, action=2, f1=128,f2=128, lr=0.0005):\n",
        "        super(Critic, self).__init__()\n",
        "        self.fc1 = nn.Linear(state, f1) \n",
        "        self.fc1.weight.data.normal_(-0.03, 0.03)\n",
        "        self.fc2 = nn.Linear(f1, f2) \n",
        "        self.fc2.weight.data.normal_(-0.03, 0.03)\n",
        "        self.actionNNL = nn.Linear(action, f2)\n",
        "        self.fc3 = nn.Linear(f2, 1) # 2 for the number of CARTOPLOE(ACTION) 1 for CRITIC\n",
        "        self.fc3.weight.data.normal_(-0.03, 0.03)\n",
        "        self.loss = nn.MSELoss()\n",
        "        self.optimizer = optim.Adam(self.parameters(),lr=lr)\n",
        "        self.device = T.device('cuda:0' if T.cuda.is_available() else 'cpu')\n",
        "        self.to(self.device)\n",
        "\n",
        "    def forward(self, x, action):\n",
        "        x = T.Tensor(x).to(self.device)\n",
        "        action = T.tensor(action).to(self.device)\n",
        "        x = F.relu(self.fc1(x))\n",
        "        x = self.fc2(x)\n",
        "        x2 = self.actionNNL(action)\n",
        "        x = x.add(x2)\n",
        "        x = F.relu(x)\n",
        "        x = self.fc3(x)\n",
        "        return x"
      ],
      "metadata": {
        "id": "0yERodnbS9PS"
      },
      "execution_count": null,
      "outputs": []
    },
    {
      "cell_type": "code",
      "source": [
        "class Actor(nn.Module):\n",
        "    def __init__(self, state=4, action=2, f1=128,f2=128, lr=0.00001):\n",
        "        super(Actor, self).__init__()\n",
        "        self.fc1 = nn.Linear(state, f1) \n",
        "        self.fc1.weight.data.normal_(-0.03, 0.03)\n",
        "        self.fc2 = nn.Linear(f1, f2) \n",
        "        self.fc2.weight.data.normal_(-0.03, 0.03)\n",
        "        self.fc3 = nn.Linear(f2, action) # 2 for the number of CARTOPLOE(ACTION) 1 for CRITIC\n",
        "        self.fc3.weight.data.normal_(-0.03, 0.03)\n",
        "        self.loss = nn.MSELoss()\n",
        "        self.optimizer = optim.Adam(self.parameters(),lr=lr)\n",
        "        self.device = T.device('cuda:0' if T.cuda.is_available() else 'cpu')\n",
        "        self.to(self.device)\n",
        "\n",
        "    def forward(self, x):\n",
        "        x = T.Tensor(x).to(self.device)\n",
        "        x = F.relu(self.fc1(x))\n",
        "        x = F.relu(self.fc2(x))\n",
        "        x = self.fc3(x)\n",
        "        return x"
      ],
      "metadata": {
        "id": "M0s4x10GS-NA"
      },
      "execution_count": null,
      "outputs": []
    },
    {
      "cell_type": "code",
      "source": [
        "class Agent():\n",
        "    def __init__(self,env,tau=0.005, fc1=128,fc2=128):\n",
        "        self.env = env\n",
        "        self.observation_space = env.observation_space\n",
        "        self.action_space = env.action_space\n",
        "        self.device = T.device('cuda:0' if T.cuda.is_available() else 'cpu')\n",
        "        self.gamma = 0.99\n",
        "        self.epsilon=0.99\n",
        "        self.beta = 0.0005\n",
        "        self.alpha = 0.00001\n",
        "        self.tau=tau\n",
        "        self.actor = Actor(state=self.observation_space.shape[0]*self.observation_space.shape[1],action=self.action_space.n,f1=fc1,f2=fc2,lr=self.alpha)\n",
        "        self.actor_target = Actor(state=self.observation_space.shape[0]*self.observation_space.shape[1],action=self.action_space.n,f1=fc1,f2=fc2,lr=self.alpha)\n",
        "\n",
        "        self.critic = Critic(state=self.observation_space.shape[0]*self.observation_space.shape[1], action=self.action_space.n,f1=fc1,f2=fc2,lr=self.beta)\n",
        "        self.critic_target = Critic(state=self.observation_space.shape[0]*self.observation_space.shape[1], action=self.action_space.n,f1=fc1,f2=fc2,lr=self.beta)\n",
        "\n",
        "        self.actor_optimizer = optim.Adam(self.actor.parameters(), lr=self.alpha)\n",
        "        self.critic_optimizer = optim.Adam(self.critic.parameters(),lr=self.beta)\n",
        "        self.log_p = None\n",
        "        self.replay_buffer= ReplayBuffer(self.env, self.action_space.n, size=10000, batch_size=100)\n",
        "        self.noise = OUActionNoise(action_space=self.action_space.n)\n",
        "    \n",
        "    def stepWithNoise(self, agent_pos):\n",
        "        agent_pos = T.FloatTensor(agent_pos).to(self.device)\n",
        "        d = self.actor.forward(agent_pos)\n",
        "        d = d + T.tensor(self.noise(),dtype=T.float).to(self.actor.device)\n",
        "        #action = Categorical(F.softmax(d,dim=-1)) \n",
        "        #action_p = action.sample()\n",
        "        #value = self.critic(agent_pos)\n",
        "        #self.log_p = action.log_prob(action_p).unsqueeze(0)\n",
        "        return np.random.randint(0,3)\n",
        "\n",
        "    def stepWithoutNoise(self, agent_pos):\n",
        "        agent_pos = T.FloatTensor(agent_pos).to(self.device)\n",
        "        d = self.actor.forward(agent_pos)\n",
        "        #d = d + T.tensor(self.noise(),dtype=T.float).to(self.actor.device)\n",
        "        #action = Categorical(F.softmax(d,dim=-1)) \n",
        "        #action_p = action.sample()\n",
        "        #value = self.critic(agent_pos)\n",
        "        #self.log_p = action.log_prob(action_p).unsqueeze(0)\n",
        "        d = d.cpu().detach().numpy()\n",
        "        m = np.max(d)\n",
        "        idx=-1\n",
        "        for i in range(len(d)):\n",
        "            if m==d[i]:\n",
        "                idx=i\n",
        "\n",
        "        return idx\n",
        "    \n",
        "    def learnPolicy(self):\n",
        "        if self.replay_buffer.count < self.replay_buffer.batch_size:\n",
        "            return\n",
        "            #prev_state, action, reward, next_state, done\n",
        "        prev_state, action, reward, next_state, done = self.replay_buffer.getSampledData()\n",
        "        next_state = T.FloatTensor(next_state).to(self.device)\n",
        "        prev_state = T.FloatTensor(prev_state).to(self.device)\n",
        "        reward = T.FloatTensor(reward).to(self.device)\n",
        "        done = T.FloatTensor(done).to(self.device)\n",
        "        action = T.FloatTensor(action).to(self.device)\n",
        "\n",
        "        #V(t1)\n",
        "        val_t1 = self.critic_target.forward(next_state, self.actor_target.forward(next_state))\n",
        "        #V(t)\n",
        "        val_t = self.critic.forward(prev_state, action)\n",
        "        # detla = reward + gamma * V(t+1) - V(t)\n",
        "        delta = reward+self.gamma*val_t1*done - val_t\n",
        "        mu = self.actor.forward(prev_state)\n",
        "\n",
        "        self.critic.optimizer.zero_grad()\n",
        "        self.actor.optimizer.zero_grad()\n",
        "        F.mse_loss(delta, val_t).backward()\n",
        "        T.mean(-self.critic.forward(prev_state, mu)).backward()\n",
        "        self.critic.optimizer.step()\n",
        "        self.actor.optimizer.step()\n",
        "        #soft update\n",
        "        for c,tc in zip(self.critic.parameters(), self.critic_target.parameters()):\n",
        "            tc.data.copy_(self.tau*c+(1-self.tau)*tc)\n",
        "        for a,ta in zip(self.actor.parameters(), self.actor_target.parameters()):\n",
        "            ta.data.copy_(self.tau*a+(1-self.tau)*ta)\n"
      ],
      "metadata": {
        "id": "v-sm-2kgTAvq"
      },
      "execution_count": null,
      "outputs": []
    },
    {
      "cell_type": "code",
      "source": [
        "import matplotlib\n",
        "import matplotlib.pyplot as plt\n",
        "\n",
        "episode = 10000\n",
        "avg_r100= []\n",
        "avg_r10 = []\n",
        "reward_per_episode = []\n",
        "agent = Agent(env, fc1=64, fc2=64)\n",
        "\n",
        "for i in range(episode):\n",
        "    prev_state = env.reset()\n",
        "    done = False\n",
        "    cumulative_reward = 0\n",
        "    while not done:\n",
        "        action = agent.stepWithNoise(prev_state.flatten())\n",
        "        obs, reward, done, _ = env.step(action)# prev_state, action, reward, next_state, done\n",
        "        agent.replay_buffer.add(prev_state, action, reward, obs, int(done))\n",
        "        prev_state=obs\n",
        "        cumulative_reward += reward\n",
        "        agent.learnPolicy()\n",
        "    if i%200==0:\n",
        "      print(\"episode: \", i)\n",
        "    avrRew100 = np.mean(reward_per_episode[-100:])\n",
        "    avrRew10 = np.mean(reward_per_episode[-10:])\n",
        "    avg_r100.append(avrRew100)\n",
        "    avg_r10.append(avrRew10)\n",
        "\n",
        "    reward_per_episode.append(cumulative_reward)\n",
        "\n",
        "plt.title(\"Finance episodes vs reward\")\n",
        "plt.xlabel('Episode')\n",
        "plt.ylabel('Rewards')\n",
        "plt.plot(reward_per_episode)\n",
        "plt.show()"
      ],
      "metadata": {
        "id": "p0U3Szi1TURz",
        "colab": {
          "base_uri": "https://localhost:8080/",
          "height": 1000
        },
        "outputId": "c5a4bc49-01d2-4c97-c4e5-699f0ee3670d"
      },
      "execution_count": null,
      "outputs": [
        {
          "output_type": "stream",
          "name": "stdout",
          "text": [
            "episode:  0\n"
          ]
        },
        {
          "output_type": "stream",
          "name": "stderr",
          "text": [
            "/usr/local/lib/python3.7/dist-packages/numpy/core/fromnumeric.py:3441: RuntimeWarning: Mean of empty slice.\n",
            "  out=out, **kwargs)\n",
            "/usr/local/lib/python3.7/dist-packages/numpy/core/_methods.py:189: RuntimeWarning: invalid value encountered in double_scalars\n",
            "  ret = ret.dtype.type(ret / rcount)\n"
          ]
        },
        {
          "output_type": "stream",
          "name": "stdout",
          "text": [
            "episode:  200\n",
            "episode:  400\n",
            "episode:  600\n",
            "episode:  800\n",
            "episode:  1000\n",
            "episode:  1200\n",
            "episode:  1400\n",
            "episode:  1600\n",
            "episode:  1800\n",
            "episode:  2000\n",
            "episode:  2200\n",
            "episode:  2400\n",
            "episode:  2600\n",
            "episode:  2800\n",
            "episode:  3000\n",
            "episode:  3200\n",
            "episode:  3400\n",
            "episode:  3600\n",
            "episode:  3800\n",
            "episode:  4000\n",
            "episode:  4200\n",
            "episode:  4400\n",
            "episode:  4600\n",
            "episode:  4800\n",
            "episode:  5000\n",
            "episode:  5200\n",
            "episode:  5400\n",
            "episode:  5600\n",
            "episode:  5800\n",
            "episode:  6000\n",
            "episode:  6200\n",
            "episode:  6400\n",
            "episode:  6600\n",
            "episode:  6800\n",
            "episode:  7000\n",
            "episode:  7200\n",
            "episode:  7400\n",
            "episode:  7600\n",
            "episode:  7800\n",
            "episode:  8000\n",
            "episode:  8200\n",
            "episode:  8400\n",
            "episode:  8600\n",
            "episode:  8800\n",
            "episode:  9000\n",
            "episode:  9200\n",
            "episode:  9400\n",
            "episode:  9600\n",
            "episode:  9800\n"
          ]
        },
        {
          "output_type": "display_data",
          "data": {
            "text/plain": [
              "<Figure size 432x288 with 1 Axes>"
            ],
            "image/png": "[encoded data removed]"
          },
          "metadata": {
            "needs_background": "light"
          }
        }
      ]
    },
    {
      "cell_type": "code",
      "source": [
        "env.render_all()"
      ],
      "metadata": {
        "colab": {
          "base_uri": "https://localhost:8080/",
          "height": 294
        },
        "id": "zSGeZ9_QjYL_",
        "outputId": "52d18b24-9f7b-4682-c4c7-c14e12f6e248"
      },
      "execution_count": null,
      "outputs": [
        {
          "output_type": "display_data",
          "data": {
            "text/plain": [
              "<Figure size 432x288 with 1 Axes>"
            ],
            "image/png": "[encoded data removed]"
          },
          "metadata": {
            "needs_background": "light"
          }
        }
      ]
    },
    {
      "cell_type": "code",
      "source": [
        "plt.title(\"Finance episodes vs reward\")\n",
        "plt.xlabel('Episode')\n",
        "plt.ylabel('Rewards')\n",
        "plt.plot(avg_r100)\n",
        "plt.show()"
      ],
      "metadata": {
        "id": "ZQg3Qo5H6v_M",
        "colab": {
          "base_uri": "https://localhost:8080/",
          "height": 295
        },
        "outputId": "57ee4f20-37c5-4f18-dcc7-db054e1aec91"
      },
      "execution_count": null,
      "outputs": [
        {
          "output_type": "display_data",
          "data": {
            "text/plain": [
              "<Figure size 432x288 with 1 Axes>"
            ],
            "image/png": "[encoded data removed]"
          },
          "metadata": {
            "needs_background": "light"
          }
        }
      ]
    },
    {
      "cell_type": "code",
      "source": [
        "print(reward_per_episode)"
      ],
      "metadata": {
        "id": "JJPXFAnLC_gn",
        "colab": {
          "base_uri": "https://localhost:8080/"
        },
        "outputId": "c91bd0fa-1625-4180-d682-8d9518beb668"
      },
      "execution_count": null,
      "outputs": [
        {
          "output_type": "stream",
          "name": "stdout",
          "text": [
            "[]\n"
          ]
        }
      ]
    },
    {
      "cell_type": "code",
      "source": [
        "import matplotlib\n",
        "import matplotlib.pyplot as plt\n",
        "\n",
        "episode = 10\n",
        "avg_r100= []\n",
        "avg_r10 = []\n",
        "reward_per_episode = []\n",
        "\n",
        "for i in range(episode):\n",
        "    prev_state = env.reset()\n",
        "    done = False\n",
        "    cumulative_reward = 0\n",
        "    while not done:\n",
        "        print(prev_state)\n",
        "        action = agent.stepWithoutNoise(prev_state.flatten())\n",
        "        obs, reward, done, _ = env.step(action)# prev_state, action, reward, next_state, done\n",
        "        agent.replay_buffer.add(prev_state, action, reward, obs, int(done))\n",
        "        prev_state=obs\n",
        "        cumulative_reward += reward\n",
        "        #agent.learnPolicy()\n",
        "    if i%200==0:\n",
        "      print(\"episode: \", i)\n",
        "    avrRew100 = np.mean(reward_per_episode[-100:])\n",
        "    avrRew10 = np.mean(reward_per_episode[-10:])\n",
        "    avg_r100.append(avrRew100)\n",
        "    avg_r10.append(avrRew10)\n",
        "    env.render()\n",
        "\n",
        "    reward_per_episode.append(cumulative_reward)\n"
      ],
      "metadata": {
        "id": "OkvozCgGDIX3"
      },
      "execution_count": null,
      "outputs": []
    },
    {
      "cell_type": "code",
      "source": [
        ""
      ],
      "metadata": {
        "id": "BJIZgTzCjIr2"
      },
      "execution_count": null,
      "outputs": []
    },
    {
      "cell_type": "markdown",
      "source": [
        "##TD 3\n"
      ],
      "metadata": {
        "id": "AoKCXuQSzAt-"
      }
    },
    {
      "cell_type": "code",
      "source": [
        "import torch"
      ],
      "metadata": {
        "id": "pKeZrcF_y_LW"
      },
      "execution_count": null,
      "outputs": []
    },
    {
      "cell_type": "code",
      "source": [
        "env2 = gym.make('stocks-v0', df = amazondf, frame_bound=(10, 200), window_size=10)"
      ],
      "metadata": {
        "id": "c63S7XQIHHw8"
      },
      "execution_count": null,
      "outputs": []
    },
    {
      "cell_type": "markdown",
      "metadata": {
        "id": "IgK2j20H_fLa"
      },
      "source": [
        "### New Critic"
      ]
    },
    {
      "cell_type": "code",
      "source": [
        "class CriticTD3(nn.Module):\n",
        "    def __init__(self, state=4, action=2, f1=128,f2=128, lr=0.0005):\n",
        "        super(CriticTD3, self).__init__()\n",
        "        self.fc1 = nn.Linear(state+action, f1) \n",
        "        self.fc1.weight.data.normal_(-0.03, 0.03)\n",
        "        self.fc2 = nn.Linear(f1, f2) \n",
        "        self.fc2.weight.data.normal_(-0.03, 0.03)\n",
        "        self.fc3 = nn.Linear(f2, 1) # 2 for the number of CARTOPLOE(ACTION) 1 for CRITIC\n",
        "        self.fc3.weight.data.normal_(-0.03, 0.03)\n",
        "\n",
        "        self.fc4 = nn.Linear(state+action, f1) \n",
        "        self.fc4.weight.data.normal_(-0.03, 0.03)\n",
        "        self.fc5 = nn.Linear(f1, f2) \n",
        "        self.fc5.weight.data.normal_(-0.03, 0.03)\n",
        "        self.fc6 = nn.Linear(f2, 1) # 2 for the number of CARTOPLOE(ACTION) 1 for CRITIC\n",
        "        self.fc6.weight.data.normal_(-0.03, 0.03)\n",
        "\n",
        "        self.loss = nn.MSELoss()\n",
        "        self.optimizer = optim.Adam(self.parameters(),lr=lr)\n",
        "        self.device = T.device('cuda:0' if T.cuda.is_available() else 'cpu')\n",
        "        self.to(self.device)\n",
        "\n",
        "    def forward(self, x, action):\n",
        "        x = T.Tensor(x).to(self.device)\n",
        "        action = T.tensor(action).to(self.device)\n",
        "        state_action = T.cat([x, action], 1)\n",
        "        x = F.relu(self.fc1(state_action))\n",
        "        x = self.fc2(x)\n",
        "        q1 = self.fc3(x)\n",
        "\n",
        "        y = F.relu(self.fc1(state_action))\n",
        "        y = self.fc2(y)\n",
        "        q2 = self.fc3(y)\n",
        "\n",
        "        return q1,q2\n",
        "    def valueForActor(self, x, action):\n",
        "        x = T.Tensor(x).to(self.device)\n",
        "        action = T.tensor(action).to(self.device)\n",
        "        state_action = T.cat([x, action], 1)\n",
        "        x = F.relu(self.fc1(state_action))\n",
        "        x = self.fc2(x)\n",
        "        q1 = self.fc3(x)\n",
        "        return q1"
      ],
      "metadata": {
        "id": "iVCfvEqGG9pD"
      },
      "execution_count": null,
      "outputs": []
    },
    {
      "cell_type": "markdown",
      "source": [
        "Agent TD3"
      ],
      "metadata": {
        "id": "ozAFK3xbFzSW"
      }
    },
    {
      "cell_type": "code",
      "source": [
        "class AgentTD3():\n",
        "    def __init__(self,env,tau=0.005, fc1=128,fc2=128, freq=10):\n",
        "        self.env = env\n",
        "        self.observation_space = env.observation_space\n",
        "        self.action_space = env.action_space\n",
        "        self.device = T.device('cuda:0' if T.cuda.is_available() else 'cpu')\n",
        "        self.gamma = 0.99\n",
        "        self.epsilon=0.99\n",
        "        self.beta = 0.0005\n",
        "        self.alpha = 0.00001\n",
        "        self.tau=tau\n",
        "        self.actor = Actor(state=self.observation_space.shape[0]*self.observation_space.shape[1],action=self.action_space.n,f1=fc1,f2=fc2,lr=self.alpha)\n",
        "        self.actor_target = Actor(state=self.observation_space.shape[0]*self.observation_space.shape[1],action=self.action_space.n,f1=fc1,f2=fc2,lr=self.alpha)\n",
        "\n",
        "        self.critic = CriticTD3(state=self.observation_space.shape[0]*self.observation_space.shape[1], action=self.action_space.n,f1=fc1,f2=fc2,lr=self.beta)\n",
        "        self.critic_target = CriticTD3(state=self.observation_space.shape[0]*self.observation_space.shape[1], action=self.action_space.n,f1=fc1,f2=fc2,lr=self.beta)\n",
        "\n",
        "        self.actor_optimizer = optim.Adam(self.actor.parameters(), lr=self.alpha)\n",
        "        self.critic_optimizer = optim.Adam(self.critic.parameters(),lr=self.beta)\n",
        "        self.log_p = None\n",
        "        self.replay_buffer= ReplayBuffer(self.env, self.action_space.n, size=10000, batch_size=100)\n",
        "        self.noise = OUActionNoise(action_space=self.action_space.n)\n",
        "        self.count=0\n",
        "        self.freq = freq\n",
        "    \n",
        "    def stepWithNoise(self, agent_pos):\n",
        "        agent_pos = T.FloatTensor(agent_pos).to(self.device)\n",
        "        d = self.actor.forward(agent_pos)\n",
        "        d = d + T.tensor(self.noise(),dtype=T.float).to(self.actor.device)\n",
        "        d = d.cpu().detach().numpy()\n",
        "        m = np.max(d)\n",
        "        idx=-1\n",
        "        for i in range(len(d)):\n",
        "            if m==d[i]:\n",
        "                idx=i\n",
        "\n",
        "        return idx\n",
        "\n",
        "    def stepWithoutNoise(self, agent_pos):\n",
        "        agent_pos = T.FloatTensor(agent_pos).to(self.device)\n",
        "        d = self.actor.forward(agent_pos)\n",
        "        #d = d + T.tensor(self.noise(),dtype=T.float).to(self.actor.device)\n",
        "        #action = Categorical(F.softmax(d,dim=-1)) \n",
        "        #action_p = action.sample()\n",
        "        #value = self.critic(agent_pos)\n",
        "        #self.log_p = action.log_prob(action_p).unsqueeze(0)\n",
        "        d = d.cpu().detach().numpy()\n",
        "        m = np.max(d)\n",
        "        idx=-1\n",
        "        for i in range(len(d)):\n",
        "            if m==d[i]:\n",
        "                idx=i\n",
        "\n",
        "        return idx\n",
        "    \n",
        "    def learnPolicy(self):\n",
        "        self.count+=1\n",
        "        if self.replay_buffer.count < self.replay_buffer.batch_size:\n",
        "            return\n",
        "            #prev_state, action, reward, next_state, done\n",
        "        prev_state, action, reward, next_state, done = self.replay_buffer.getSampledData()\n",
        "        next_state = T.FloatTensor(next_state).to(self.device)\n",
        "        prev_state = T.FloatTensor(prev_state).to(self.device)\n",
        "        reward = T.FloatTensor(reward).to(self.device)\n",
        "        done = T.FloatTensor(done).to(self.device)\n",
        "        action = T.FloatTensor(action).to(self.device)\n",
        "\n",
        "        next_action = self.actor_target.forward(next_state)+self.noise\n",
        "\n",
        "        tq1,tq2 = self.critic_target.forward(next_state, next_action)\n",
        "        tqVal_t1 = reward +self.gamma*T.min(tq1,tq2)*done\n",
        "\n",
        "        q1,q2 = self.critic.forward(prev_state, action)\n",
        "\n",
        "        self.critic.optimizer.zero_grad()\n",
        "        critic_loss = F.mse_loss(q1, tqVal_t1) + F.mse_loss(q2, tqVal_t1)\n",
        "        critic_loss.backward()\n",
        "        self.critic.optimizer.step()\n",
        "        #soft update\n",
        "        #delayed update:\n",
        "        if self.count%self.freq==0:\n",
        "            actor_loss = self.critic.valueForActor(prev_state, self.actor.forward(prev_state))\n",
        "            for c,tc in zip(self.critic.parameters(), self.critic_target.parameters()):\n",
        "                tc.data.copy_(self.tau*c+(1-self.tau)*tc)\n",
        "            for a,ta in zip(self.actor.parameters(), self.actor_target.parameters()):\n",
        "                ta.data.copy_(self.tau*a+(1-self.tau)*ta)\n"
      ],
      "metadata": {
        "id": "lNxdgYWGFwxG"
      },
      "execution_count": null,
      "outputs": []
    },
    {
      "cell_type": "code",
      "source": [
        "import matplotlib\n",
        "import matplotlib.pyplot as plt\n",
        "\n",
        "episode = 10000\n",
        "avg_r100= []\n",
        "avg_r10 = []\n",
        "reward_per_episode = []\n",
        "agent = AgentTD3(env2, fc1=64, fc2=64)\n",
        "\n",
        "for i in range(episode):\n",
        "    prev_state = env2.reset()\n",
        "    done = False\n",
        "    cumulative_reward = 0\n",
        "    while not done:\n",
        "        action = agent.stepWithNoise(prev_state.flatten())\n",
        "        obs, reward, done, _ = env2.step(action)# prev_state, action, reward, next_state, done\n",
        "        agent.replay_buffer.add(prev_state, action, reward, obs, int(done))\n",
        "        prev_state=obs\n",
        "        cumulative_reward += reward\n",
        "        agent.learnPolicy()\n",
        "    if i%200==0:\n",
        "      print(\"episode: \", i)\n",
        "    avrRew100 = np.mean(reward_per_episode[-100:])\n",
        "    avrRew10 = np.mean(reward_per_episode[-10:])\n",
        "    avg_r100.append(avrRew100)\n",
        "    avg_r10.append(avrRew10)\n",
        "\n",
        "    reward_per_episode.append(cumulative_reward)\n",
        "\n",
        "plt.title(\"Finance episodes vs reward\")\n",
        "plt.xlabel('Episode')\n",
        "plt.ylabel('Rewards')\n",
        "plt.plot(reward_per_episode)\n",
        "plt.show()"
      ],
      "metadata": {
        "id": "FvTJ0lxOOaRz",
        "colab": {
          "base_uri": "https://localhost:8080/",
          "height": 1000
        },
        "outputId": "68bac522-26de-4cab-fbf6-7e6ab389f85e"
      },
      "execution_count": null,
      "outputs": [
        {
          "output_type": "stream",
          "name": "stdout",
          "text": [
            "episode:  0\n"
          ]
        },
        {
          "output_type": "stream",
          "name": "stderr",
          "text": [
            "/usr/local/lib/python3.7/dist-packages/numpy/core/fromnumeric.py:3441: RuntimeWarning: Mean of empty slice.\n",
            "  out=out, **kwargs)\n",
            "/usr/local/lib/python3.7/dist-packages/numpy/core/_methods.py:189: RuntimeWarning: invalid value encountered in double_scalars\n",
            "  ret = ret.dtype.type(ret / rcount)\n"
          ]
        },
        {
          "output_type": "stream",
          "name": "stdout",
          "text": [
            "episode:  200\n",
            "episode:  400\n",
            "episode:  600\n",
            "episode:  800\n",
            "episode:  1000\n",
            "episode:  1200\n",
            "episode:  1400\n",
            "episode:  1600\n",
            "episode:  1800\n",
            "episode:  2000\n",
            "episode:  2200\n",
            "episode:  2400\n",
            "episode:  2600\n",
            "episode:  2800\n",
            "episode:  3000\n",
            "episode:  3200\n",
            "episode:  3400\n",
            "episode:  3600\n",
            "episode:  3800\n",
            "episode:  4000\n",
            "episode:  4200\n",
            "episode:  4400\n",
            "episode:  4600\n",
            "episode:  4800\n",
            "episode:  5000\n",
            "episode:  5200\n",
            "episode:  5400\n",
            "episode:  5600\n",
            "episode:  5800\n",
            "episode:  6000\n",
            "episode:  6200\n",
            "episode:  6400\n",
            "episode:  6600\n",
            "episode:  6800\n",
            "episode:  7000\n",
            "episode:  7200\n",
            "episode:  7400\n",
            "episode:  7600\n",
            "episode:  7800\n",
            "episode:  8000\n",
            "episode:  8200\n",
            "episode:  8400\n",
            "episode:  8600\n",
            "episode:  8800\n",
            "episode:  9000\n",
            "episode:  9200\n",
            "episode:  9400\n",
            "episode:  9600\n",
            "episode:  9800\n"
          ]
        },
        {
          "output_type": "display_data",
          "data": {
            "text/plain": [
              "<Figure size 432x288 with 1 Axes>"
            ],
            "image/png": "[encoded data removed]"
          },
          "metadata": {
            "needs_background": "light"
          }
        }
      ]
    },
    {
      "cell_type": "code",
      "source": [
        "env.step(1)"
      ],
      "metadata": {
        "colab": {
          "base_uri": "https://localhost:8080/"
        },
        "id": "QehOjdk2R0Kw",
        "outputId": "338b6fb6-3fd6-4ea8-ef55-463806f8b414"
      },
      "execution_count": null,
      "outputs": [
        {
          "output_type": "execute_result",
          "data": {
            "text/plain": [
              "(array([[ 8.04653072, -0.02538586],\n",
              "        [ 7.82756662, -0.2189641 ],\n",
              "        [ 7.67405128, -0.15351534],\n",
              "        [ 7.62481451, -0.04923677],\n",
              "        [ 7.43735409, -0.18746042],\n",
              "        [ 7.66089964,  0.22354555],\n",
              "        [ 7.75264645,  0.09174681],\n",
              "        [ 7.77619505,  0.0235486 ],\n",
              "        [ 7.9416399 ,  0.16544485],\n",
              "        [ 8.17283058,  0.23119068]]),\n",
              " 0,\n",
              " False,\n",
              " {'position': 1, 'total_profit': 1.0, 'total_reward': 0.0})"
            ]
          },
          "metadata": {},
          "execution_count": 49
        }
      ]
    },
    {
      "cell_type": "code",
      "source": [
        "env2.step(1)"
      ],
      "metadata": {
        "colab": {
          "base_uri": "https://localhost:8080/",
          "height": 287
        },
        "id": "vIVHypWfRvwu",
        "outputId": "a62575d5-ed33-4c15-cf90-5ee5072daf04"
      },
      "execution_count": null,
      "outputs": [
        {
          "output_type": "error",
          "ename": "TypeError",
          "evalue": "ignored",
          "traceback": [
            "\u001b[0;31m---------------------------------------------------------------------------\u001b[0m",
            "\u001b[0;31mTypeError\u001b[0m                                 Traceback (most recent call last)",
            "\u001b[0;32m<ipython-input-51-a9e186b1f701>\u001b[0m in \u001b[0;36m<module>\u001b[0;34m()\u001b[0m\n\u001b[0;32m----> 1\u001b[0;31m \u001b[0menv2\u001b[0m\u001b[0;34m.\u001b[0m\u001b[0mstep\u001b[0m\u001b[0;34m(\u001b[0m\u001b[0;36m1\u001b[0m\u001b[0;34m)\u001b[0m\u001b[0;34m\u001b[0m\u001b[0;34m\u001b[0m\u001b[0m\n\u001b[0m",
            "\u001b[0;32m/usr/local/lib/python3.7/dist-packages/gym_anytrading/envs/trading_env.py\u001b[0m in \u001b[0;36mstep\u001b[0;34m(self, action)\u001b[0m\n\u001b[1;32m     71\u001b[0m     \u001b[0;32mdef\u001b[0m \u001b[0mstep\u001b[0m\u001b[0;34m(\u001b[0m\u001b[0mself\u001b[0m\u001b[0;34m,\u001b[0m \u001b[0maction\u001b[0m\u001b[0;34m)\u001b[0m\u001b[0;34m:\u001b[0m\u001b[0;34m\u001b[0m\u001b[0;34m\u001b[0m\u001b[0m\n\u001b[1;32m     72\u001b[0m         \u001b[0mself\u001b[0m\u001b[0;34m.\u001b[0m\u001b[0m_done\u001b[0m \u001b[0;34m=\u001b[0m \u001b[0;32mFalse\u001b[0m\u001b[0;34m\u001b[0m\u001b[0;34m\u001b[0m\u001b[0m\n\u001b[0;32m---> 73\u001b[0;31m         \u001b[0mself\u001b[0m\u001b[0;34m.\u001b[0m\u001b[0m_current_tick\u001b[0m \u001b[0;34m+=\u001b[0m \u001b[0;36m1\u001b[0m\u001b[0;34m\u001b[0m\u001b[0;34m\u001b[0m\u001b[0m\n\u001b[0m\u001b[1;32m     74\u001b[0m \u001b[0;34m\u001b[0m\u001b[0m\n\u001b[1;32m     75\u001b[0m         \u001b[0;32mif\u001b[0m \u001b[0mself\u001b[0m\u001b[0;34m.\u001b[0m\u001b[0m_current_tick\u001b[0m \u001b[0;34m==\u001b[0m \u001b[0mself\u001b[0m\u001b[0;34m.\u001b[0m\u001b[0m_end_tick\u001b[0m\u001b[0;34m:\u001b[0m\u001b[0;34m\u001b[0m\u001b[0;34m\u001b[0m\u001b[0m\n",
            "\u001b[0;31mTypeError\u001b[0m: unsupported operand type(s) for +=: 'NoneType' and 'int'"
          ]
        }
      ]
    },
    {
      "cell_type": "code",
      "source": [
        "env2.render_all()"
      ],
      "metadata": {
        "colab": {
          "base_uri": "https://localhost:8080/",
          "height": 294
        },
        "id": "v1MzzyCHO4Sd",
        "outputId": "807c3edd-1dd1-48df-edb1-9cf0e6c25abb"
      },
      "execution_count": null,
      "outputs": [
        {
          "output_type": "display_data",
          "data": {
            "text/plain": [
              "<Figure size 432x288 with 1 Axes>"
            ],
            "image/png": "[encoded data removed]"
          },
          "metadata": {
            "needs_background": "light"
          }
        }
      ]
    },
    {
      "cell_type": "code",
      "source": [
        "plt.title(\"Finance episodes vs reward\")\n",
        "plt.xlabel('Episode')\n",
        "plt.ylabel('Rewards')\n",
        "plt.plot(avg_r100)\n",
        "plt.show()"
      ],
      "metadata": {
        "colab": {
          "base_uri": "https://localhost:8080/",
          "height": 295
        },
        "id": "iVAmtHemO8cZ",
        "outputId": "eaf78935-f390-4c93-edd2-1db262157312"
      },
      "execution_count": null,
      "outputs": [
        {
          "output_type": "display_data",
          "data": {
            "text/plain": [
              "<Figure size 432x288 with 1 Axes>"
            ],
            "image/png": "[encoded data removed]"
          },
          "metadata": {
            "needs_background": "light"
          }
        }
      ]
    },
    {
      "cell_type": "code",
      "source": [
        "import matplotlib\n",
        "import matplotlib.pyplot as plt\n",
        "\n",
        "episode = 10\n",
        "avg_r100= []\n",
        "avg_r10 = []\n",
        "reward_per_episode = []\n",
        "for i in range(episode):\n",
        "    prev_state = env.reset()\n",
        "    done = False\n",
        "    cumulative_reward = 0\n",
        "    while not done:\n",
        "        print(prev_state)\n",
        "        action = agent.stepWithoutNoise(prev_state.flatten())\n",
        "        obs, reward, done, _ = env2.step(action)# prev_state, action, reward, next_state, done\n",
        "        agent.replay_buffer.add(prev_state, action, reward, obs, int(done))\n",
        "        prev_state=obs\n",
        "        cumulative_reward += reward\n",
        "        #agent.learnPolicy()\n",
        "    if i%200==0:\n",
        "      print(\"episode: \", i)\n",
        "    avrRew100 = np.mean(reward_per_episode[-100:])\n",
        "    avrRew10 = np.mean(reward_per_episode[-10:])\n",
        "    avg_r100.append(avrRew100)\n",
        "    avg_r10.append(avrRew10)\n",
        "    env.render()\n",
        "\n",
        "    reward_per_episode.append(cumulative_reward)"
      ],
      "metadata": {
        "id": "XO1l3FczPglV"
      },
      "execution_count": null,
      "outputs": []
    },
    {
      "cell_type": "code",
      "source": [
        "env2.render_all()"
      ],
      "metadata": {
        "id": "bj2wMtsjP3wp"
      },
      "execution_count": null,
      "outputs": []
    },
    {
      "cell_type": "code",
      "source": [
        ""
      ],
      "metadata": {
        "id": "6KxrFuNwP8Im"
      },
      "execution_count": null,
      "outputs": []
    }
  ]
}